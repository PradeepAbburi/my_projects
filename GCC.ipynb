{
  "cells": [
    {
      "cell_type": "markdown",
      "metadata": {
        "id": "view-in-github",
        "colab_type": "text"
      },
      "source": [
        "<a href=\"https://colab.research.google.com/github/PradeepAbburi/my_projects/blob/main/GCC.ipynb\" target=\"_parent\"><img src=\"https://colab.research.google.com/assets/colab-badge.svg\" alt=\"Open In Colab\"/></a>"
      ]
    },
    {
      "cell_type": "markdown",
      "metadata": {
        "id": "RoEf4B3HI1DW"
      },
      "source": [
        "# 18/03/24\n",
        "\n",
        "---\n",
        "\n"
      ]
    },
    {
      "cell_type": "markdown",
      "metadata": {
        "id": "6qLlV_GysQEg"
      },
      "source": [
        "# FUNCTIONS\n"
      ]
    },
    {
      "cell_type": "markdown",
      "metadata": {
        "id": "f2fWHlAQsWbs"
      },
      "source": [
        "CALLING A FUNCTION\n",
        "\n",
        "---\n",
        "\n",
        "\n"
      ]
    },
    {
      "cell_type": "code",
      "execution_count": null,
      "metadata": {
        "colab": {
          "base_uri": "https://localhost:8080/"
        },
        "id": "h7fkDX7CsdpH",
        "outputId": "3a048543-3623-4020-9986-f3c4da85e1e8"
      },
      "outputs": [
        {
          "output_type": "stream",
          "name": "stdout",
          "text": [
            "pradeep\n"
          ]
        }
      ],
      "source": [
        "def my_func(x):\n",
        "  print(x)\n",
        "my_func('pradeep')"
      ]
    },
    {
      "cell_type": "markdown",
      "metadata": {
        "id": "27y7fXUbtbXf"
      },
      "source": [
        "ARGUMENTS\n",
        "\n",
        "---\n",
        "\n",
        "\n",
        "\n"
      ]
    },
    {
      "cell_type": "code",
      "execution_count": null,
      "metadata": {
        "colab": {
          "base_uri": "https://localhost:8080/"
        },
        "id": "zfEne9lCtfIf",
        "outputId": "845b900b-72c5-4301-b743-5f4a55b2c1e3"
      },
      "outputs": [
        {
          "output_type": "stream",
          "name": "stdout",
          "text": [
            "apple fruit\n",
            "banana fruit\n",
            "tomato fruit\n"
          ]
        }
      ],
      "source": [
        "def my_func(x):\n",
        "  print(x+ \" fruit\")\n",
        "my_func(\"apple\")\n",
        "my_func(\"banana\")\n",
        "my_func(\"tomato\")"
      ]
    },
    {
      "cell_type": "markdown",
      "metadata": {
        "id": "hUft4rWyuPvf"
      },
      "source": [
        "\n",
        "\n",
        "*   NO.OF ARGUMENTS\n",
        "\n",
        "\n"
      ]
    },
    {
      "cell_type": "code",
      "execution_count": null,
      "metadata": {
        "colab": {
          "base_uri": "https://localhost:8080/"
        },
        "id": "ws9CHpWYuTo2",
        "outputId": "33964b6d-f330-4ea6-804b-555ee9f10ff7"
      },
      "outputs": [
        {
          "output_type": "stream",
          "name": "stdout",
          "text": [
            "pradeep abburi\n"
          ]
        }
      ],
      "source": [
        "def my_func(x,y):\n",
        "  print(x+\"\"+y)\n",
        "my_func(\"pradeep\",\" abburi\")"
      ]
    },
    {
      "cell_type": "markdown",
      "metadata": {
        "id": "MKHOXdU1vbD0"
      },
      "source": [
        "\n",
        "\n",
        "*   ARBITARY ARGUMENTS\n",
        "\n"
      ]
    },
    {
      "cell_type": "code",
      "execution_count": null,
      "metadata": {
        "colab": {
          "base_uri": "https://localhost:8080/"
        },
        "id": "pTZXGaSWvgUS",
        "outputId": "e976e672-c944-455a-8622-9e034bf09b5d"
      },
      "outputs": [
        {
          "output_type": "stream",
          "name": "stdout",
          "text": [
            "THE YOUNGEST CHILD IS Pradeep\n"
          ]
        }
      ],
      "source": [
        "def my_func(*args):\n",
        "  print(\"THE YOUNGEST CHILD IS\"+ args[0])\n",
        "my_func(\" Pradeep\", \" Ashok\", \" Guru\")"
      ]
    },
    {
      "cell_type": "markdown",
      "metadata": {
        "id": "AQpUYwGywApi"
      },
      "source": [
        "\n",
        "\n",
        "*   KEYWORD ARGUMENTS\n",
        "\n"
      ]
    },
    {
      "cell_type": "code",
      "execution_count": null,
      "metadata": {
        "colab": {
          "base_uri": "https://localhost:8080/"
        },
        "id": "sF2dx2hZwFeY",
        "outputId": "2472f0ff-0ed0-4dee-9d93-da497a0667b0"
      },
      "outputs": [
        {
          "output_type": "stream",
          "name": "stdout",
          "text": [
            "The youngest child is  GURU\n"
          ]
        }
      ],
      "source": [
        "def my_func(child3, child2, child1):\n",
        "  print(\"The youngest child is \" + child3)\n",
        "\n",
        "my_func(child1 = \" PRADEEP\", child2 = \" ASHOK\", child3 = \" GURU\")"
      ]
    },
    {
      "cell_type": "code",
      "execution_count": null,
      "metadata": {
        "colab": {
          "base_uri": "https://localhost:8080/"
        },
        "id": "L6RyGm-BwXpH",
        "outputId": "a22aac7a-9fc1-4696-cf58-d1f21438002f"
      },
      "outputs": [
        {
          "output_type": "stream",
          "name": "stdout",
          "text": [
            "the youngest child is Ashok\n"
          ]
        }
      ],
      "source": [
        "def my_func(**kids):\n",
        "  print(\"the youngest child is\" + kids[\"x\"])\n",
        "my_func(x= \" Ashok\" , y= \" Pradeep\")"
      ]
    },
    {
      "cell_type": "markdown",
      "metadata": {
        "id": "07bXEkP3xSTN"
      },
      "source": [
        "DEFAULT PARAMETER VALUE\n",
        "\n",
        "---\n",
        "\n"
      ]
    },
    {
      "cell_type": "code",
      "execution_count": null,
      "metadata": {
        "colab": {
          "base_uri": "https://localhost:8080/"
        },
        "id": "2JASRn10xgu2",
        "outputId": "c1d5f003-7ebb-41a0-e6b0-7f7ddb90a5a6"
      },
      "outputs": [
        {
          "output_type": "stream",
          "name": "stdout",
          "text": [
            "America\n",
            "Africa\n",
            "India\n",
            "Antarctica\n"
          ]
        }
      ],
      "source": [
        "def my_func(country=\"India\"):\n",
        "  print(country)\n",
        "my_func(\"America\")\n",
        "my_func(\"Africa\")\n",
        "my_func()\n",
        "my_func(\"Antarctica\")"
      ]
    },
    {
      "cell_type": "markdown",
      "metadata": {
        "id": "ZwI22jm0yHNX"
      },
      "source": [
        "PASSING LIST AS A PARAMETER\n",
        "\n",
        "---\n",
        "\n"
      ]
    },
    {
      "cell_type": "code",
      "execution_count": null,
      "metadata": {
        "colab": {
          "base_uri": "https://localhost:8080/"
        },
        "id": "-cJAAn6tyLVH",
        "outputId": "2be5b5e8-61d8-4287-c862-4e2ebad8e663"
      },
      "outputs": [
        {
          "output_type": "stream",
          "name": "stdout",
          "text": [
            "Apple\n",
            "tomato\n",
            "Kiwi\n"
          ]
        }
      ],
      "source": [
        "def my_func(food):\n",
        "  for x in food:\n",
        "    print(x)\n",
        "\n",
        "fruits = [\"Apple\", \"tomato\", \"Kiwi\"]\n",
        "\n",
        "my_func(fruits)"
      ]
    },
    {
      "cell_type": "code",
      "source": [
        "def my_func(food):\n",
        "  for x in food:\n",
        "    print(x)\n",
        "fruits = [\"kiwi\",\"pineapple\",\"banana\"]\n",
        "my_func(fruits)"
      ],
      "metadata": {
        "colab": {
          "base_uri": "https://localhost:8080/"
        },
        "id": "xWCYpKB2k0Cx",
        "outputId": "df2c8b39-04e1-47af-ac19-dc4c0d1adeaa"
      },
      "execution_count": null,
      "outputs": [
        {
          "output_type": "stream",
          "name": "stdout",
          "text": [
            "kiwi\n",
            "pineapple\n",
            "banana\n"
          ]
        }
      ]
    },
    {
      "cell_type": "markdown",
      "metadata": {
        "id": "_rnv0kQ7yj5H"
      },
      "source": [
        "RETURN VALUES\n",
        "\n",
        "---\n",
        "\n"
      ]
    },
    {
      "cell_type": "code",
      "execution_count": null,
      "metadata": {
        "colab": {
          "base_uri": "https://localhost:8080/"
        },
        "id": "mtZMViwyyq32",
        "outputId": "c9c738e4-5c3b-480f-ff03-1830b1225e44"
      },
      "outputs": [
        {
          "name": "stdout",
          "output_type": "stream",
          "text": [
            "8\n",
            "18\n",
            "12\n"
          ]
        }
      ],
      "source": [
        "def my_func(x):\n",
        "  return 2 * x\n",
        "\n",
        "print(my_func(4))\n",
        "print(my_func(9))\n",
        "print(my_func(6))"
      ]
    },
    {
      "cell_type": "markdown",
      "metadata": {
        "id": "CqeKEB1vzv5M"
      },
      "source": [
        "POSITIONAL- ONLY ARGUMENTS\n",
        "\n",
        "---\n",
        "\n"
      ]
    },
    {
      "cell_type": "code",
      "execution_count": null,
      "metadata": {
        "colab": {
          "base_uri": "https://localhost:8080/"
        },
        "id": "p8IhyGsfz0_-",
        "outputId": "42b1e91f-ec2f-46ce-e7bb-1ae0e1643d1a"
      },
      "outputs": [
        {
          "name": "stdout",
          "output_type": "stream",
          "text": [
            "4\n"
          ]
        }
      ],
      "source": [
        "def my_func(x, /):\n",
        "  print(x)\n",
        "\n",
        "my_func(4)"
      ]
    },
    {
      "cell_type": "markdown",
      "metadata": {
        "id": "ssnNtHVW0-2n"
      },
      "source": [
        "KEYWORD-ONLY ARGUMENTS\n",
        "\n",
        "---\n",
        "\n"
      ]
    },
    {
      "cell_type": "code",
      "execution_count": null,
      "metadata": {
        "colab": {
          "base_uri": "https://localhost:8080/"
        },
        "id": "SZoJ9xZq1EZF",
        "outputId": "8945d895-cdad-44f2-f948-bfe9e265dfa2"
      },
      "outputs": [
        {
          "name": "stdout",
          "output_type": "stream",
          "text": [
            "3\n"
          ]
        }
      ],
      "source": [
        "def my_func(*, x):\n",
        "  print(x)\n",
        "\n",
        "my_func(x = 3)"
      ]
    },
    {
      "cell_type": "markdown",
      "metadata": {
        "id": "AG2o-v2N1T2Y"
      },
      "source": [
        "BOTH POSITION-ONLY AND KEYWORD-ONLY\n",
        "\n",
        "---\n",
        "\n"
      ]
    },
    {
      "cell_type": "code",
      "execution_count": null,
      "metadata": {
        "colab": {
          "base_uri": "https://localhost:8080/"
        },
        "id": "hloc9kle1aTr",
        "outputId": "31064182-00fa-4415-97f6-bc3c5314dec4"
      },
      "outputs": [
        {
          "name": "stdout",
          "output_type": "stream",
          "text": [
            "26\n"
          ]
        }
      ],
      "source": [
        "def my_func(a, b, /, *, c, d):\n",
        "  print(a + b + c + d)\n",
        "\n",
        "my_func(5, 6, c = 7, d = 8)"
      ]
    },
    {
      "cell_type": "markdown",
      "metadata": {
        "id": "CGaKaAX5JCP5"
      },
      "source": [
        "# 20/03/24\n",
        "\n",
        "---\n",
        "\n"
      ]
    },
    {
      "cell_type": "markdown",
      "metadata": {
        "id": "uk2wf6ztPo3t"
      },
      "source": [
        "# WAYS OF SWAPING LISTS\n",
        "\n",
        "---\n",
        "\n"
      ]
    },
    {
      "cell_type": "markdown",
      "metadata": {
        "id": "dqhmf2YPJGcs"
      },
      "source": [
        " Find the length of the list and simply swap the first element with (n-1)th element."
      ]
    },
    {
      "cell_type": "code",
      "execution_count": null,
      "metadata": {
        "colab": {
          "base_uri": "https://localhost:8080/"
        },
        "id": "iGFSu4nWKcrW",
        "outputId": "425d24d0-87bd-4cf5-add9-6310f43e75a1"
      },
      "outputs": [
        {
          "name": "stdout",
          "output_type": "stream",
          "text": [
            "['99', '50', '66', '20']\n"
          ]
        }
      ],
      "source": [
        "def func(NewList):\n",
        "  size = len(NewList)\n",
        "\n",
        "  temp = NewList[0]\n",
        "  NewList[0] = NewList[size-1]\n",
        "  NewList[size-1] = temp\n",
        "\n",
        "  return NewList\n",
        "\n",
        "NewList= [20,50,66,99]\n",
        "\n",
        "print(func(NewList))"
      ]
    },
    {
      "cell_type": "markdown",
      "metadata": {
        "id": "AHkWdAseL2ns"
      },
      "source": [
        " The last element of the list can be referred as list[-1]. Therefore, we can simply swap list[0] with list[-1]."
      ]
    },
    {
      "cell_type": "code",
      "execution_count": null,
      "metadata": {
        "colab": {
          "base_uri": "https://localhost:8080/"
        },
        "id": "_CEIG3zuMJyY",
        "outputId": "45cecbf0-e3a9-45a4-a821-12701a639e1a"
      },
      "outputs": [
        {
          "name": "stdout",
          "output_type": "stream",
          "text": [
            "['66', '33', '44', '55', '22']\n"
          ]
        }
      ],
      "source": [
        "def func(newlist):\n",
        "\n",
        "  newlist[0],newlist[-1] = newlist[-1] ,newlist[0]\n",
        "\n",
        "  return newlist\n",
        "\n",
        "newlist = [22,33,44,55,66]\n",
        "print(func(newlist))"
      ]
    },
    {
      "cell_type": "markdown",
      "metadata": {
        "id": "px8WEOGnN_SS"
      },
      "source": [
        "Using * operand.\n",
        "This operand proposes a change to iterable unpacking syntax, allowing to specify a “catch-all” name which will be assigned a list of all items not assigned to a “regular” name."
      ]
    },
    {
      "cell_type": "code",
      "execution_count": null,
      "metadata": {
        "colab": {
          "base_uri": "https://localhost:8080/"
        },
        "id": "B6S2MP-dPBzy",
        "outputId": "38b882bd-8277-462e-9c6a-52f289832187"
      },
      "outputs": [
        {
          "name": "stdout",
          "output_type": "stream",
          "text": [
            "(90, 40, 30, 60, 70, 20)\n"
          ]
        }
      ],
      "source": [
        "def func(newlist):\n",
        "  start,*middle,end = newlist\n",
        "  newlist = end,*middle,start\n",
        "\n",
        "  return newlist\n",
        "newlist= [20,40,30,60,70,90]\n",
        "print(func(newlist))"
      ]
    },
    {
      "cell_type": "markdown",
      "metadata": {
        "id": "15FGXD6mPwJ6"
      },
      "source": [
        "swap the first and last element using builtin function pop remove the first elemt and last elemt and store them and swap them"
      ]
    },
    {
      "cell_type": "code",
      "execution_count": null,
      "metadata": {
        "colab": {
          "base_uri": "https://localhost:8080/"
        },
        "id": "6f8KFdWJQJmZ",
        "outputId": "1d2917ac-1939-4210-9187-85a97cfc2050"
      },
      "outputs": [
        {
          "name": "stdout",
          "output_type": "stream",
          "text": [
            "[77, 33, 44, 55, 66, 22]\n"
          ]
        }
      ],
      "source": [
        "def func(newlist):\n",
        "\n",
        "  first = newlist.pop(0)\n",
        "  last = newlist.pop(-1)\n",
        "\n",
        "  newlist.insert(0, last)\n",
        "  newlist.append(first)\n",
        "\n",
        "  return newlist\n",
        "\n",
        "newlist = [22,33,44,55,66,77]\n",
        "print(func(newlist))"
      ]
    },
    {
      "cell_type": "markdown",
      "metadata": {
        "id": "WDq5QgX5RBQc"
      },
      "source": [
        "first we have to check i fit has atleast two elements and then swap the last index with first and first with the last and then print the original list and then swapped list"
      ]
    },
    {
      "cell_type": "code",
      "execution_count": null,
      "metadata": {
        "colab": {
          "base_uri": "https://localhost:8080/"
        },
        "id": "6vIMOw5fRk-3",
        "outputId": "9a865a3a-f99b-41aa-f6fb-3a8d8699191d"
      },
      "outputs": [
        {
          "name": "stdout",
          "output_type": "stream",
          "text": [
            "the original value is: [11, 22, 33, 44, 55, 66]\n",
            "the swapped value is: [66, 22, 33, 44, 55, 11]\n"
          ]
        }
      ],
      "source": [
        "def func(newlist):\n",
        "  if len(newlist) >= 2:\n",
        "    newlist = newlist[-1:]+ newlist[1:-1] + newlist[:1]\n",
        "\n",
        "    return newlist\n",
        "\n",
        "newlist = [11,22,33,44,55,66]\n",
        "\n",
        "print('the original value is:',newlist)\n",
        "\n",
        "result = func(newlist)\n",
        "\n",
        "print(\"the swapped value is:\",result)\n",
        "\n"
      ]
    },
    {
      "cell_type": "markdown",
      "metadata": {
        "id": "EtYlhpieTgSm"
      },
      "source": [
        "swap the positions of elemts in list by first element to third element and third element to first"
      ]
    },
    {
      "cell_type": "code",
      "execution_count": null,
      "metadata": {
        "colab": {
          "base_uri": "https://localhost:8080/"
        },
        "id": "t17dU3JIUO3N",
        "outputId": "bab5c58a-ee68-48ef-8b7a-f64c220d3238"
      },
      "outputs": [
        {
          "name": "stdout",
          "output_type": "stream",
          "text": [
            "[33, 44, 22, 55, 66]\n"
          ]
        }
      ],
      "source": [
        "def func(newlist,pos1,pos2):\n",
        "\n",
        "  first_element = newlist.pop(pos1)\n",
        "  second_element = newlist.pop(pos2-1)\n",
        "\n",
        "  newlist.insert(pos2, first_element)\n",
        "  newlist.insert(pos1, second_element)\n",
        "\n",
        "  return newlist\n",
        "\n",
        "newlist= [22,33,44,55,66]\n",
        "pos1,pos2 = 1,2\n",
        "\n",
        "print(func(newlist,pos1-1,pos2-1))\n",
        "\n"
      ]
    },
    {
      "cell_type": "markdown",
      "metadata": {
        "id": "lJWMN6DJ2HKl"
      },
      "source": [
        "# GEEKS FOR GEEKS PROBLEMS\n",
        "\n",
        "---\n",
        "\n"
      ]
    },
    {
      "cell_type": "markdown",
      "metadata": {
        "id": "Zg6XCRxZflj5"
      },
      "source": [
        "Given a Integer array A[] of n elements. Your task is to complete the function PalinArray. Which will return 1 if all the elements of the Array are palindrome otherwise it will return 0."
      ]
    },
    {
      "cell_type": "code",
      "execution_count": null,
      "metadata": {
        "id": "_kvl_VGP18gP"
      },
      "outputs": [],
      "source": [
        "def PalinArray(arr ,n):\n",
        "    # Code here\n",
        "\n",
        "    a = []\n",
        "    for i in range(n):\n",
        "        if str(arr[i])== str(arr[i])[::-1]:\n",
        "            a.append(arr[i])\n",
        "    if a==arr:\n",
        "        return 1\n",
        "    else:\n",
        "        return 0"
      ]
    },
    {
      "cell_type": "markdown",
      "metadata": {
        "id": "PSn8Dnqb6qpG"
      },
      "source": [
        "Print 1 to n numbers without using loops"
      ]
    },
    {
      "cell_type": "code",
      "execution_count": null,
      "metadata": {
        "colab": {
          "base_uri": "https://localhost:8080/"
        },
        "id": "SHhwRc1K23fd",
        "outputId": "00e53fd1-278c-4d19-fbcb-107f9a30c097"
      },
      "outputs": [
        {
          "name": "stdout",
          "output_type": "stream",
          "text": [
            "1 2 3 4 5\n"
          ]
        }
      ],
      "source": [
        "result = []\n",
        "def solution(n):\n",
        "  result.append(n)\n",
        "  if n == 1:\n",
        "    return\n",
        "  else:\n",
        "    return solution(n-1)\n",
        "\n",
        "solution(5)\n",
        "print(*result[::-1])"
      ]
    },
    {
      "cell_type": "markdown",
      "metadata": {
        "id": "K-j9Kk_2Maw6"
      },
      "source": [
        "# 21/03/24\n",
        "\n",
        "---\n",
        "\n"
      ]
    },
    {
      "cell_type": "markdown",
      "metadata": {
        "id": "z20xOvLMMerK"
      },
      "source": [
        "# GEEKS FOR GEEKS PROBLEMS\n",
        "\n",
        "\n",
        "\n",
        "---\n",
        "\n"
      ]
    },
    {
      "cell_type": "markdown",
      "metadata": {
        "id": "LYqk-3_WP3hC"
      },
      "source": [
        "For a given 3 digit number, find whether it is armstrong number or not. An Armstrong number of three digits is a number such that the sum of the cubes of its digits is equal to the number itself. Return \"Yes\" if it is a armstrong number else return \"No\"."
      ]
    },
    {
      "cell_type": "code",
      "execution_count": null,
      "metadata": {
        "id": "LQaihUZbMd-P"
      },
      "outputs": [],
      "source": [
        "class Solution:\n",
        "    def armstrongNumber (self, n):\n",
        "        # code here\n",
        "\n",
        "        S = 0\n",
        "        for i in str(n):\n",
        "            S += int(i)**3\n",
        "        if S==n:\n",
        "            return \"Yes\"\n",
        "        else:\n",
        "            return \"No\"\n"
      ]
    },
    {
      "cell_type": "markdown",
      "metadata": {
        "id": "e24CmmJpA9D8"
      },
      "source": [
        "\\\n",
        "\n",
        "---\n",
        "\n"
      ]
    },
    {
      "cell_type": "markdown",
      "metadata": {
        "id": "gNa_TskGQBR1"
      },
      "source": [
        "find the length of the string without using len function"
      ]
    },
    {
      "cell_type": "code",
      "execution_count": null,
      "metadata": {
        "colab": {
          "base_uri": "https://localhost:8080/"
        },
        "id": "kV62YSvm_zvP",
        "outputId": "0979a1a7-d2fe-402f-ae21-5672b9814905"
      },
      "outputs": [
        {
          "name": "stdout",
          "output_type": "stream",
          "text": [
            "the list is : [22, 33, 44, 55, 66]\n",
            " the length of the list is: 5\n"
          ]
        }
      ],
      "source": [
        "new_list = [22,33,44,55,66]\n",
        "\n",
        "print(\"the list is :\", str(new_list))\n",
        "\n",
        "counter = 0\n",
        "for i in new_list:\n",
        "  counter = counter + 1\n",
        "print(\" the length of the list is:\", str(counter))"
      ]
    },
    {
      "cell_type": "markdown",
      "metadata": {
        "id": "TW0to3dDBDGG"
      },
      "source": [
        "find the length of the list using length hint method"
      ]
    },
    {
      "cell_type": "code",
      "execution_count": null,
      "metadata": {
        "colab": {
          "base_uri": "https://localhost:8080/"
        },
        "id": "niCE3uYMBulr",
        "outputId": "1a7e7695-4b03-411f-c7a1-718add781658"
      },
      "outputs": [
        {
          "name": "stdout",
          "output_type": "stream",
          "text": [
            "the list is: [22, 33, 44, 55, 66]\n",
            "the length of the list is: 5\n"
          ]
        }
      ],
      "source": [
        "from operator import length_hint\n",
        "\n",
        "new_list = [22,33,44,55,66]\n",
        "print(\"the list is:\", str(new_list))\n",
        "\n",
        "list_len_hint = length_hint(new_list)\n",
        "\n",
        "print(\"the length of the list is:\", str(list_len_hint))"
      ]
    },
    {
      "cell_type": "markdown",
      "metadata": {
        "id": "AR7WQAjFCkqu"
      },
      "source": [
        "find the lenth of the list using sum() function"
      ]
    },
    {
      "cell_type": "code",
      "execution_count": null,
      "metadata": {
        "colab": {
          "base_uri": "https://localhost:8080/"
        },
        "id": "bWhmpTbSC3_G",
        "outputId": "48482a6f-0cc9-4a8c-9e3d-231f296379e0"
      },
      "outputs": [
        {
          "name": "stdout",
          "output_type": "stream",
          "text": [
            "the list is:[22, 33, 44, 55, 66, 77]\n",
            "The length of the list is:6\n"
          ]
        }
      ],
      "source": [
        "new_list = [22,33,44,55,66,77]\n",
        "\n",
        "print(\"the list is:\"+ str(new_list))\n",
        "\n",
        "list_len = sum(1 for i in new_list)\n",
        "print(\"The length of the list is:\"+ str(list_len))"
      ]
    },
    {
      "cell_type": "markdown",
      "metadata": {
        "id": "q7-jt_n2Dsv-"
      },
      "source": [
        "find the length of the list using enumerate"
      ]
    },
    {
      "cell_type": "code",
      "execution_count": null,
      "metadata": {
        "colab": {
          "base_uri": "https://localhost:8080/"
        },
        "id": "6AZ2OOqAEVwX",
        "outputId": "ba023563-af36-4ddc-cd0e-6e762d7369dc"
      },
      "outputs": [
        {
          "name": "stdout",
          "output_type": "stream",
          "text": [
            "the list is: [22, 33, 44, 55, 66, 77, 88]\n",
            "the length of the list is  7\n"
          ]
        }
      ],
      "source": [
        "new_list = [22,33,44,55,66,77,88]\n",
        "s = 0\n",
        "print(\"the list is:\", new_list)\n",
        "for i, a in enumerate(new_list):\n",
        "  s += 1\n",
        "print(\"the length of the list is \", s)\n"
      ]
    },
    {
      "cell_type": "markdown",
      "metadata": {
        "id": "3gl7cwX_dpVG"
      },
      "source": [
        "# 22/03/24\n",
        "\n",
        "---\n",
        "\n"
      ]
    },
    {
      "cell_type": "markdown",
      "metadata": {
        "id": "kIFnkcIesuUw"
      },
      "source": [
        "# STRING REVERSING\n",
        "\n",
        "---\n",
        "\n"
      ]
    },
    {
      "cell_type": "markdown",
      "metadata": {
        "id": "QMZX3cV0dsJx"
      },
      "source": [
        "reverse words in a given string\n",
        "\n",
        "\n"
      ]
    },
    {
      "cell_type": "code",
      "execution_count": null,
      "metadata": {
        "colab": {
          "base_uri": "https://localhost:8080/"
        },
        "id": "k7VN8PPBlQbU",
        "outputId": "7a5cf0f9-1ae7-4740-f67e-cdce32fa76e3"
      },
      "outputs": [
        {
          "name": "stdout",
          "output_type": "stream",
          "text": [
            "pradeepisthishello\n"
          ]
        }
      ],
      "source": [
        "string = (\"hello this is pradeep\")\n",
        "\n",
        "l = []\n",
        "\n",
        "x = string.split()[::-1]\n",
        "\n",
        "for i in x:\n",
        "  l.append(i)\n",
        "print(''.join(l))"
      ]
    },
    {
      "cell_type": "markdown",
      "metadata": {
        "id": "XzIFY3HPmLip"
      },
      "source": []
    },
    {
      "cell_type": "code",
      "execution_count": null,
      "metadata": {
        "colab": {
          "base_uri": "https://localhost:8080/",
          "height": 36
        },
        "id": "j6dK6HXwpPV0",
        "outputId": "e8cc9b09-8f35-4e18-e3d1-1c1466d56aa2"
      },
      "outputs": [
        {
          "data": {
            "application/vnd.google.colaboratory.intrinsic+json": {
              "type": "string"
            },
            "text/plain": [
              "'pradeepisthishello'"
            ]
          },
          "execution_count": 4,
          "metadata": {},
          "output_type": "execute_result"
        }
      ],
      "source": [
        "def func(words):\n",
        "  x = words.split()\n",
        "\n",
        "  y = ''.join(reversed(x))\n",
        "\n",
        "  return y\n",
        "func(\"hello this is pradeep\")\n",
        "\n",
        "\n"
      ]
    },
    {
      "cell_type": "markdown",
      "metadata": {
        "id": "811r68bLstPv"
      },
      "source": [
        "check if string contains substring or not"
      ]
    },
    {
      "cell_type": "code",
      "execution_count": null,
      "metadata": {
        "colab": {
          "base_uri": "https://localhost:8080/"
        },
        "id": "AfakKzH4s-QN",
        "outputId": "6d2011ea-9cda-4d9e-b6dc-1aa871b4da44"
      },
      "outputs": [
        {
          "name": "stdout",
          "output_type": "stream",
          "text": [
            "it is in the string\n"
          ]
        }
      ],
      "source": [
        "n = (\"this is pradeep\")\n",
        "\n",
        "if \"pradeep\" in n:\n",
        "  print(\"it is in the string\")\n",
        "else:\n",
        "  print(\"it is not in the string\")"
      ]
    },
    {
      "cell_type": "markdown",
      "metadata": {
        "id": "nSJiNuIRuzs-"
      },
      "source": [
        "find sub string using split method"
      ]
    },
    {
      "cell_type": "code",
      "execution_count": null,
      "metadata": {
        "colab": {
          "base_uri": "https://localhost:8080/"
        },
        "id": "eDSn2Ob7u0Ro",
        "outputId": "c35b0b41-c187-451f-fa54-bc072f43b6c5"
      },
      "outputs": [
        {
          "name": "stdout",
          "output_type": "stream",
          "text": [
            "substring found\n"
          ]
        }
      ],
      "source": [
        "n = (\"this is pradeep\")\n",
        "x = \"pradeep\"\n",
        "\n",
        "y = n.split()\n",
        "\n",
        "if x in y:\n",
        "  print(\"substring found\")\n",
        "else:\n",
        "  print(\"no sub string\")"
      ]
    },
    {
      "cell_type": "markdown",
      "metadata": {
        "id": "ncEXxD-rxjWT"
      },
      "source": [
        "find the substring using find method"
      ]
    },
    {
      "cell_type": "code",
      "execution_count": null,
      "metadata": {
        "colab": {
          "base_uri": "https://localhost:8080/"
        },
        "id": "jP3V02Rr5sZi",
        "outputId": "8ec26ca0-58f7-401d-ba69-5894fd528399"
      },
      "outputs": [
        {
          "name": "stdout",
          "output_type": "stream",
          "text": [
            "Yes\n"
          ]
        }
      ],
      "source": [
        "def func(x,y):\n",
        "  if x.find(y) == -1:\n",
        "    print(\"No\")\n",
        "  else:\n",
        "    print(\"Yes\")\n",
        "x = \"pradeep is good boy\"\n",
        "y =\"pradeep\"\n",
        "func(x,y)"
      ]
    },
    {
      "cell_type": "markdown",
      "metadata": {
        "id": "yA6IuTxq5id-"
      },
      "source": [
        "find given number is armstrong or not using len method"
      ]
    },
    {
      "cell_type": "code",
      "execution_count": null,
      "metadata": {
        "colab": {
          "base_uri": "https://localhost:8080/"
        },
        "id": "wYKbaexw5pc8",
        "outputId": "e6c1b443-215f-4505-f8f9-cf6c5a742b97"
      },
      "outputs": [
        {
          "name": "stdout",
          "output_type": "stream",
          "text": [
            "153\n",
            "Armstrong\n"
          ]
        }
      ],
      "source": [
        "n = int(input())\n",
        "s = str(n)\n",
        "x = len(s)\n",
        "q = 0\n",
        "\n",
        "for i in s:\n",
        "    q += int(i)**x\n",
        "\n",
        "if q == n:\n",
        "    print(\"Armstrong\")\n",
        "else:\n",
        "    print(\"Not an Armstrong number\")\n"
      ]
    },
    {
      "cell_type": "markdown",
      "metadata": {
        "id": "N0Eacrkg6QaM"
      },
      "source": [
        "# 26/03/24\n",
        "\n",
        "---\n",
        "\n"
      ]
    },
    {
      "cell_type": "markdown",
      "metadata": {
        "id": "yZeTvPlk-j2b"
      },
      "source": []
    },
    {
      "cell_type": "code",
      "execution_count": null,
      "metadata": {
        "colab": {
          "base_uri": "https://localhost:8080/"
        },
        "id": "LpivjJWIKzte",
        "outputId": "3b6d4349-9008-42ef-d008-c16ee737f2b5"
      },
      "outputs": [
        {
          "name": "stdout",
          "output_type": "stream",
          "text": [
            "['balu', 'manchi', 'baludu']\n"
          ]
        }
      ],
      "source": [
        "x = (\"balu manchi baludu\")\n",
        "y = str(x)\n",
        "z = y.split()\n",
        "print(z)\n"
      ]
    },
    {
      "cell_type": "markdown",
      "metadata": {
        "id": "ZEI-e7UQVWbY"
      },
      "source": [
        "remove vowels from list"
      ]
    },
    {
      "cell_type": "code",
      "execution_count": null,
      "metadata": {
        "colab": {
          "base_uri": "https://localhost:8080/"
        },
        "id": "3XkoNobLNegx",
        "outputId": "511c8a35-1675-4a6f-e4cb-5d28fc1f0460"
      },
      "outputs": [
        {
          "name": "stdout",
          "output_type": "stream",
          "text": [
            "Hll Wrld\n"
          ]
        }
      ],
      "source": [
        "def remove_vowels(text):\n",
        "    result = \"\"\n",
        "    for i in text:\n",
        "        if i not in 'aeiouAEIOU':\n",
        "            result += i\n",
        "    return result\n",
        "\n",
        "input_string = \"Hello World\"\n",
        "result = remove_vowels(input_string)\n",
        "print(result)"
      ]
    },
    {
      "cell_type": "markdown",
      "metadata": {
        "id": "b6pGfMS_O5H1"
      },
      "source": [
        "find the intersection of two arrays without using a method"
      ]
    },
    {
      "cell_type": "code",
      "execution_count": null,
      "metadata": {
        "colab": {
          "base_uri": "https://localhost:8080/"
        },
        "id": "Z8cSVEGgU5As",
        "outputId": "4980f1f7-96a8-4686-e906-902200426054"
      },
      "outputs": [
        {
          "name": "stdout",
          "output_type": "stream",
          "text": [
            "[4, 5]\n"
          ]
        }
      ],
      "source": [
        "def intersection(arr1, arr2):\n",
        "    result = []\n",
        "\n",
        "    for elem in arr1:\n",
        "        if elem in arr2 and elem not in result:\n",
        "            result.append(elem)\n",
        "\n",
        "    return result\n",
        "\n",
        "array1 = [1, 2, 3, 4, 5]\n",
        "array2 = [4, 5, 6, 7, 8]\n",
        "intersect = intersection(array1, array2)\n",
        "print(intersect)"
      ]
    },
    {
      "cell_type": "code",
      "execution_count": null,
      "metadata": {
        "colab": {
          "base_uri": "https://localhost:8080/"
        },
        "id": "Q6-5f-BdWSAG",
        "outputId": "310a645e-bd68-4328-841c-1b3c90fab9c4"
      },
      "outputs": [
        {
          "name": "stdout",
          "output_type": "stream",
          "text": [
            " ulab\n"
          ]
        }
      ],
      "source": [
        "x = \"balu\"\n",
        "y = \" \"\n",
        "\n",
        "for i in x[::-1]:\n",
        "  y += i\n",
        "print(y)"
      ]
    },
    {
      "cell_type": "code",
      "execution_count": null,
      "metadata": {
        "colab": {
          "base_uri": "https://localhost:8080/"
        },
        "id": "w6QkhptbYLFf",
        "outputId": "0bd12126-a10d-4cf8-9a94-e7e9e3247f89"
      },
      "outputs": [
        {
          "name": "stdout",
          "output_type": "stream",
          "text": [
            "1\n"
          ]
        }
      ],
      "source": [
        "a=[22,34,45,22,1]\n",
        "large=0\n",
        "for i in a:\n",
        "  if i>large:\n",
        "    large=i\n",
        "print(large)"
      ]
    },
    {
      "cell_type": "code",
      "execution_count": null,
      "metadata": {
        "colab": {
          "base_uri": "https://localhost:8080/"
        },
        "id": "5RPYxNzTZiBh",
        "outputId": "e3ffae02-919b-4710-bf20-67b404de7ee4"
      },
      "outputs": [
        {
          "name": "stdout",
          "output_type": "stream",
          "text": [
            "enter key value:3\n",
            "2\n"
          ]
        }
      ],
      "source": [
        "a=[1,1,1,3,4,5,3,2]\n",
        "key=int(input(\"enter key value:\"))\n",
        "count=0\n",
        "for i in a:\n",
        "  if key==i:\n",
        "    count+=1\n",
        "print(count)"
      ]
    },
    {
      "cell_type": "code",
      "execution_count": null,
      "metadata": {
        "colab": {
          "base_uri": "https://localhost:8080/"
        },
        "id": "0iTHy4zgabOz",
        "outputId": "bcc75f75-6fb6-4dc1-b0b1-c7431935d658"
      },
      "outputs": [
        {
          "name": "stdout",
          "output_type": "stream",
          "text": [
            "[1, 2, 3, 4]\n"
          ]
        }
      ],
      "source": [
        "my_list = [1, 2, 2, 3, 4, 1]\n",
        "unique_list = list(set(my_list))\n",
        "print(unique_list)"
      ]
    },
    {
      "cell_type": "code",
      "execution_count": null,
      "metadata": {
        "colab": {
          "base_uri": "https://localhost:8080/"
        },
        "id": "ThAUwelxvifD",
        "outputId": "0e71e50c-aa2a-49f2-9113-e580dc75b43a"
      },
      "outputs": [
        {
          "name": "stdout",
          "output_type": "stream",
          "text": [
            "93.2\n"
          ]
        }
      ],
      "source": [
        "cel=34\n",
        "fro=(cel*9/5)+32\n",
        "print(fro)"
      ]
    },
    {
      "cell_type": "code",
      "execution_count": null,
      "metadata": {
        "colab": {
          "base_uri": "https://localhost:8080/"
        },
        "id": "PK8NyEoiv6WM",
        "outputId": "68254644-d731-4473-fd50-d7bb485c5fa7"
      },
      "outputs": [
        {
          "name": "stdout",
          "output_type": "stream",
          "text": [
            "34\n"
          ]
        }
      ],
      "source": [
        "fro=34\n",
        "cel=(fro-32)*5/9\n",
        "print(fro)"
      ]
    },
    {
      "cell_type": "code",
      "execution_count": null,
      "metadata": {
        "id": "61hRliUUwxJK"
      },
      "outputs": [],
      "source": [
        "n=int(input(\"enter n value:\"))\n",
        "sum=0\n",
        "t=n\n",
        "b=str(n)\n",
        "c=len(b)\n",
        "while n!=0:\n",
        "  r=n%10\n",
        "  sum=sum+r**c\n",
        "  n//10\n",
        "if sum==t:\n",
        "  print(\"amstrong\")\n",
        "else:\n",
        "  print(\"not  an amstrong number\")"
      ]
    },
    {
      "cell_type": "code",
      "execution_count": null,
      "metadata": {
        "colab": {
          "base_uri": "https://localhost:8080/"
        },
        "id": "8TNF7o3txXyi",
        "outputId": "49ccc684-4c24-4364-eff9-9e6a02931449"
      },
      "outputs": [
        {
          "output_type": "stream",
          "name": "stdout",
          "text": [
            "ANAGRAM\n"
          ]
        }
      ],
      "source": [
        "a=\"litsen\"\n",
        "b=\"silent\"\n",
        "c=sorted(a)\n",
        "d=sorted(b)\n",
        "if len(c)==len(d):\n",
        "    if c==d:\n",
        "        print('ANAGRAM')\n",
        "    else:\n",
        "        print(\"not\")"
      ]
    },
    {
      "cell_type": "markdown",
      "metadata": {
        "id": "slgB55RRSWj8"
      },
      "source": [
        "# 27/03/24\n",
        "\n",
        "---\n",
        "\n"
      ]
    },
    {
      "cell_type": "markdown",
      "metadata": {
        "id": "_Q8Hep_7SgEP"
      },
      "source": [
        "creating a class and object in python"
      ]
    },
    {
      "cell_type": "code",
      "execution_count": null,
      "metadata": {
        "id": "pxF-MUuwSW8K"
      },
      "outputs": [],
      "source": [
        "class Dog:\n",
        "  attr1 = \"mammal\"\n",
        "  def __init__(self,name):\n",
        "    self.name = name\n",
        "\n",
        "  def speak(self):\n",
        "    print(\"My name is {}\".format(self.name))\n",
        "\n",
        "Rodger = Dog(\"Rodger\")\n",
        "Tommy = Dog(\"Tommy\")\n",
        "\n",
        "Rodger.speak()\n",
        "Tommy.speak()"
      ]
    },
    {
      "cell_type": "markdown",
      "metadata": {
        "id": "evPaqAqMcvla"
      },
      "source": [
        "creating a class and object in python and printing the atrritubes in class"
      ]
    },
    {
      "cell_type": "code",
      "execution_count": null,
      "metadata": {
        "id": "dQtmWRBdcwEE"
      },
      "outputs": [],
      "source": [
        "class Dog:\n",
        "  attr1 = \"mammal\"\n",
        "  attr2 = \"is also a mammal\"\n",
        "  def __init__(self,name):\n",
        "    self.name = name\n",
        "Rodger = Dog(\"Rodger\")\n",
        "Tommy = Dog(\"Tommy\")\n",
        "\n",
        "print(\"Rodger is a {}\".format(Rodger.__class__.attr1))\n",
        "print(\"Tommy is a {}\".format(Tommy.__class__.attr2))\n"
      ]
    },
    {
      "cell_type": "markdown",
      "source": [
        "# 28/03/24\n",
        "\n",
        "---\n",
        "\n"
      ],
      "metadata": {
        "id": "bZWLgFbXC_Bd"
      }
    },
    {
      "cell_type": "markdown",
      "metadata": {
        "id": "kZHSLCoSkLUT"
      },
      "source": [
        "# STRING METHODS\n",
        "\n",
        "---\n",
        "\n"
      ]
    },
    {
      "cell_type": "code",
      "execution_count": null,
      "metadata": {
        "colab": {
          "base_uri": "https://localhost:8080/"
        },
        "id": "RJACNIE8kLqO",
        "outputId": "0d2033c8-1bd3-49d0-ee7d-f8401ac46267"
      },
      "outputs": [
        {
          "output_type": "stream",
          "name": "stdout",
          "text": [
            "Apple\n"
          ]
        }
      ],
      "source": [
        "#capitalize (converts starting letter into capital)\n",
        "x= \"apple\"\n",
        "y = x.capitalize()\n",
        "print(y)"
      ]
    },
    {
      "cell_type": "code",
      "source": [
        "#title (converts first letter into upercase)\n",
        "x = \"hello world\"\n",
        "y = x.title()\n",
        "print(y)"
      ],
      "metadata": {
        "colab": {
          "base_uri": "https://localhost:8080/"
        },
        "id": "oITd9xmyrUhi",
        "outputId": "7b80bc06-ba59-463f-ff5f-54cce75d5d3f"
      },
      "execution_count": null,
      "outputs": [
        {
          "output_type": "stream",
          "name": "stdout",
          "text": [
            "Hello World\n"
          ]
        }
      ]
    },
    {
      "cell_type": "code",
      "source": [
        "#casefold (converts any  string into lower case)\n",
        "x = \"ApPle\"\n",
        "y = x.casefold()\n",
        "print(y)"
      ],
      "metadata": {
        "id": "j3oiFIKFosHo",
        "colab": {
          "base_uri": "https://localhost:8080/"
        },
        "outputId": "99967598-c44e-4cb8-ef44-ddd1f0d500be"
      },
      "execution_count": null,
      "outputs": [
        {
          "output_type": "stream",
          "name": "stdout",
          "text": [
            "apple\n"
          ]
        }
      ]
    },
    {
      "cell_type": "code",
      "source": [
        "#upper (converts any string into upper case)\n",
        "x = \"Apple\"\n",
        "y = x.upper()\n",
        "print(y)"
      ],
      "metadata": {
        "id": "Tpj_85_Lo3g_",
        "colab": {
          "base_uri": "https://localhost:8080/"
        },
        "outputId": "011c2eee-a4e9-4171-827e-fff405867430"
      },
      "execution_count": null,
      "outputs": [
        {
          "output_type": "stream",
          "name": "stdout",
          "text": [
            "APPLE\n"
          ]
        }
      ]
    },
    {
      "cell_type": "code",
      "source": [
        "#lower (converts any string into lower case)\n",
        "x = \"Apple\"\n",
        "y = x.lower()\n",
        "print(y)"
      ],
      "metadata": {
        "id": "Q6_2v0Ufo8Ko",
        "colab": {
          "base_uri": "https://localhost:8080/"
        },
        "outputId": "ceefcc79-8f63-4a3e-c16a-9de925b8070f"
      },
      "execution_count": null,
      "outputs": [
        {
          "output_type": "stream",
          "name": "stdout",
          "text": [
            "apple\n"
          ]
        }
      ]
    },
    {
      "cell_type": "code",
      "source": [
        "#center (moves any string to the center)\n",
        "x = \"Apple\"\n",
        "y = x.center(20)\n",
        "print(y)"
      ],
      "metadata": {
        "id": "0yPZS6ZQpBxr",
        "colab": {
          "base_uri": "https://localhost:8080/"
        },
        "outputId": "87661916-3948-4b03-e876-90e9bb5d0766"
      },
      "execution_count": null,
      "outputs": [
        {
          "output_type": "stream",
          "name": "stdout",
          "text": [
            "       Apple        \n"
          ]
        }
      ]
    },
    {
      "cell_type": "code",
      "source": [
        "#count (counts how many strings are in the sentence)\n",
        "x = \"i love apples, apple is my favorite fruit\"\n",
        "y = x.count(\"apple\")\n",
        "print(y)"
      ],
      "metadata": {
        "id": "vfRPeAqypGkE",
        "colab": {
          "base_uri": "https://localhost:8080/"
        },
        "outputId": "1d4a7dc9-5258-4eeb-af2e-ed0031022a4c"
      },
      "execution_count": null,
      "outputs": [
        {
          "output_type": "stream",
          "name": "stdout",
          "text": [
            "2\n"
          ]
        }
      ]
    },
    {
      "cell_type": "code",
      "source": [
        "#encode (converts the sentence into a type of code which we cant undertand)                                                                                                              )\n",
        "x = \"my name is Ståle\"\n",
        "y = x.encode()\n",
        "print(y)"
      ],
      "metadata": {
        "id": "AN0dYtWhpKhh",
        "colab": {
          "base_uri": "https://localhost:8080/"
        },
        "outputId": "3cbdd98b-d644-4c44-bfea-2ce727a46cc6"
      },
      "execution_count": null,
      "outputs": [
        {
          "output_type": "stream",
          "name": "stdout",
          "text": [
            "b'my name is St\\xc3\\xa5le'\n"
          ]
        }
      ]
    },
    {
      "cell_type": "code",
      "source": [
        "#startswith ( it checks wheather the string starts with it or not)\n",
        "x = \"hello everyone.\"\n",
        "y = x.startswith(\".\")\n",
        "print(y)"
      ],
      "metadata": {
        "colab": {
          "base_uri": "https://localhost:8080/"
        },
        "id": "zjdonKP9pfRG",
        "outputId": "8729f257-cceb-4254-9823-bd293d1ac9c7"
      },
      "execution_count": null,
      "outputs": [
        {
          "output_type": "stream",
          "name": "stdout",
          "text": [
            "False\n"
          ]
        }
      ]
    },
    {
      "cell_type": "code",
      "source": [
        "#endswith ( it checks wheather the string ends with it or not)\n",
        "x = \"hello everyone.\"\n",
        "y = x.endswith(\".\")\n",
        "print(y)"
      ],
      "metadata": {
        "id": "E-UmYVgapOjk",
        "colab": {
          "base_uri": "https://localhost:8080/"
        },
        "outputId": "d80b6597-7fcb-4edc-b80d-d405a8bf50cd"
      },
      "execution_count": null,
      "outputs": [
        {
          "output_type": "stream",
          "name": "stdout",
          "text": [
            "True\n"
          ]
        }
      ]
    },
    {
      "cell_type": "code",
      "source": [
        "#replace\n",
        "x = \"I Like Apple\"\n",
        "y = x.replace(\"Apple\",\"Banana\")\n",
        "print(y)"
      ],
      "metadata": {
        "colab": {
          "base_uri": "https://localhost:8080/"
        },
        "id": "M1yAaOhSqiDo",
        "outputId": "813c463f-4202-48cd-b499-555831b0b8aa"
      },
      "execution_count": null,
      "outputs": [
        {
          "output_type": "stream",
          "name": "stdout",
          "text": [
            "I Like Banana\n"
          ]
        }
      ]
    },
    {
      "cell_type": "code",
      "source": [
        "#strip (removes spaces at begining and ending of the string )\n",
        "txt = \"     banana     \"\n",
        "x = txt.strip()\n",
        "print(\"of all fruits\", x, \"is my favorite\")"
      ],
      "metadata": {
        "colab": {
          "base_uri": "https://localhost:8080/"
        },
        "id": "K2HCNhxXqOlK",
        "outputId": "12342e59-8cd2-4efb-83f3-d48f938fca34"
      },
      "execution_count": null,
      "outputs": [
        {
          "output_type": "stream",
          "name": "stdout",
          "text": [
            "of all fruits banana is my favorite\n"
          ]
        }
      ]
    },
    {
      "cell_type": "code",
      "source": [
        "#swapcase (lowercase becomes upper ase and uppercase becomes lower case)\n",
        "x = \"Hello Everyone\"\n",
        "y = x.swapcase()\n",
        "print(y)"
      ],
      "metadata": {
        "colab": {
          "base_uri": "https://localhost:8080/"
        },
        "id": "h2xoHq3pprwb",
        "outputId": "4dbe29c4-cc98-4518-9afd-77a73db7675c"
      },
      "execution_count": null,
      "outputs": [
        {
          "output_type": "stream",
          "name": "stdout",
          "text": [
            "hELLO eVERYONE\n"
          ]
        }
      ]
    },
    {
      "cell_type": "code",
      "source": [
        "#expandtabs (gives spaces to strings)\n",
        "x = \"h\\te\\tl\\tl\\to guys\"\n",
        "y = x.expandtabs(2)\n",
        "print(y)"
      ],
      "metadata": {
        "id": "gajVtYUfpSo7",
        "colab": {
          "base_uri": "https://localhost:8080/"
        },
        "outputId": "0a498a3b-badf-4d5f-8329-e048fe6131a4"
      },
      "execution_count": null,
      "outputs": [
        {
          "output_type": "stream",
          "name": "stdout",
          "text": [
            "h e l l o guys\n"
          ]
        }
      ]
    },
    {
      "cell_type": "code",
      "source": [
        "#find (where is the string in the sentence)\n",
        "x= \"apple is good for health\"\n",
        "y = x.find(\"apple\")\n",
        "print(y)"
      ],
      "metadata": {
        "id": "fH_ZyoFlpZ44",
        "colab": {
          "base_uri": "https://localhost:8080/"
        },
        "outputId": "e0e8f188-9d0b-47a5-97df-132f10577b9a"
      },
      "execution_count": null,
      "outputs": [
        {
          "output_type": "stream",
          "name": "stdout",
          "text": [
            "0\n"
          ]
        }
      ]
    },
    {
      "cell_type": "code",
      "source": [
        "#format\n",
        "x= \"its only is {price:.2f} dollars!\"\n",
        "print(x.format(price=49))"
      ],
      "metadata": {
        "id": "TbZ9UFyCpeNa",
        "colab": {
          "base_uri": "https://localhost:8080/"
        },
        "outputId": "933e54cf-a5d1-4404-95db-a0e1944c9750"
      },
      "execution_count": null,
      "outputs": [
        {
          "output_type": "stream",
          "name": "stdout",
          "text": [
            "its only is 49.00 dollars!\n"
          ]
        }
      ]
    },
    {
      "cell_type": "code",
      "source": [
        "#index (gives index value of string)\n",
        "x = \"hello world\"\n",
        "y = x.index(\"world\")\n",
        "print(y)"
      ],
      "metadata": {
        "id": "Tz-DjGEAphkz",
        "colab": {
          "base_uri": "https://localhost:8080/"
        },
        "outputId": "1b4d4021-a43e-4fbe-9460-729f69a259cb"
      },
      "execution_count": null,
      "outputs": [
        {
          "output_type": "stream",
          "name": "stdout",
          "text": [
            "6\n"
          ]
        }
      ]
    },
    {
      "cell_type": "code",
      "source": [
        "#is alpha (wheather it is alphabet or not)\n",
        "x = \"hello\"\n",
        "y = x.isalpha()\n",
        "print(y)"
      ],
      "metadata": {
        "id": "gKF_0yqqplzb",
        "colab": {
          "base_uri": "https://localhost:8080/"
        },
        "outputId": "fa7f5947-e131-4b8c-9b31-dcac5b831944"
      },
      "execution_count": null,
      "outputs": [
        {
          "output_type": "stream",
          "name": "stdout",
          "text": [
            "True\n"
          ]
        }
      ]
    },
    {
      "cell_type": "code",
      "source": [
        "#isdigit (wheather it is digit or not)\n",
        "x = \"hello\"\n",
        "y = x.isdigit()\n",
        "print(y)"
      ],
      "metadata": {
        "id": "OEVsxynEppZI",
        "colab": {
          "base_uri": "https://localhost:8080/"
        },
        "outputId": "2f81cdba-8308-4954-ce97-9638205c8d45"
      },
      "execution_count": null,
      "outputs": [
        {
          "output_type": "stream",
          "name": "stdout",
          "text": [
            "False\n"
          ]
        }
      ]
    },
    {
      "cell_type": "code",
      "source": [
        "#is decimal (wheather it is decimal or not)\n",
        "x = \"hello\"\n",
        "y = x.isdecimal()\n",
        "print(y)"
      ],
      "metadata": {
        "id": "-S1rOFk3putp",
        "colab": {
          "base_uri": "https://localhost:8080/"
        },
        "outputId": "24f9c7c1-cbb2-49c1-ea6e-2d6a8b5b17f0"
      },
      "execution_count": null,
      "outputs": [
        {
          "output_type": "stream",
          "name": "stdout",
          "text": [
            "False\n"
          ]
        }
      ]
    },
    {
      "cell_type": "code",
      "source": [
        "#is numeric (wheather it is numeric or not)\n",
        "x = \"hello\"\n",
        "y = x.isnumeric()\n",
        "print(y)"
      ],
      "metadata": {
        "id": "eK0F4ZDJpxzB",
        "colab": {
          "base_uri": "https://localhost:8080/"
        },
        "outputId": "acd341c2-36ad-4dd2-feab-d9642dde103c"
      },
      "execution_count": null,
      "outputs": [
        {
          "output_type": "stream",
          "name": "stdout",
          "text": [
            "False\n"
          ]
        }
      ]
    },
    {
      "cell_type": "code",
      "source": [
        "#isalum (wheather it is alphabet and numberic or not)\n",
        "x = \"hello20\"\n",
        "y = x.isalnum()\n",
        "print(y)"
      ],
      "metadata": {
        "id": "oTIMs5c3pz95",
        "colab": {
          "base_uri": "https://localhost:8080/"
        },
        "outputId": "76a6c48c-33e0-49d1-ffcd-4794dc9c515d"
      },
      "execution_count": null,
      "outputs": [
        {
          "output_type": "stream",
          "name": "stdout",
          "text": [
            "True\n"
          ]
        }
      ]
    },
    {
      "cell_type": "code",
      "source": [
        "#isidentifier\n",
        "x = \"hello\"\n",
        "y = x.isidentifier()\n",
        "print(y)"
      ],
      "metadata": {
        "id": "Mhf32zDep1_F",
        "colab": {
          "base_uri": "https://localhost:8080/"
        },
        "outputId": "8e04c11e-58e7-428a-fdee-83ce324b05fe"
      },
      "execution_count": null,
      "outputs": [
        {
          "output_type": "stream",
          "name": "stdout",
          "text": [
            "True\n"
          ]
        }
      ]
    },
    {
      "cell_type": "code",
      "source": [
        "#islower (wheather it is lower string or not)\n",
        "x = \"hello\"\n",
        "y = x.islower()\n",
        "print(y)"
      ],
      "metadata": {
        "id": "ZUKmGBhrp36D",
        "colab": {
          "base_uri": "https://localhost:8080/"
        },
        "outputId": "8489943d-66f0-47c8-be6f-be4ddf206719"
      },
      "execution_count": null,
      "outputs": [
        {
          "output_type": "stream",
          "name": "stdout",
          "text": [
            "True\n"
          ]
        }
      ]
    },
    {
      "cell_type": "code",
      "source": [
        "#isupper (wheather it is upper string or not)\n",
        "x = \"hello\"\n",
        "y = x.isupper()\n",
        "print(y)"
      ],
      "metadata": {
        "colab": {
          "base_uri": "https://localhost:8080/"
        },
        "id": "-YKP0b_ho6vH",
        "outputId": "d550ec80-c1ea-41fb-d6eb-7e0e2a27f9d4"
      },
      "execution_count": null,
      "outputs": [
        {
          "output_type": "stream",
          "name": "stdout",
          "text": [
            "False\n"
          ]
        }
      ]
    },
    {
      "cell_type": "code",
      "source": [
        "#isspace\n",
        "x = \"hello world\"\n",
        "y = x.isspace()\n",
        "print(y)"
      ],
      "metadata": {
        "id": "kdQ8AManp_Z5",
        "colab": {
          "base_uri": "https://localhost:8080/"
        },
        "outputId": "c6e579ef-8aeb-4a14-e711-140aaaea34e6"
      },
      "execution_count": null,
      "outputs": [
        {
          "output_type": "stream",
          "name": "stdout",
          "text": [
            "False\n"
          ]
        }
      ]
    },
    {
      "cell_type": "code",
      "source": [
        "#istitle\n",
        "x = \"Hello20@\"\n",
        "y = x.istitle()\n",
        "print(y)"
      ],
      "metadata": {
        "id": "WO40VaKJqDbs",
        "colab": {
          "base_uri": "https://localhost:8080/"
        },
        "outputId": "d9a3302f-9624-4936-ad30-76b6833a479f"
      },
      "execution_count": null,
      "outputs": [
        {
          "output_type": "stream",
          "name": "stdout",
          "text": [
            "True\n"
          ]
        }
      ]
    },
    {
      "cell_type": "code",
      "source": [
        "#isprintable (wheather the string is printable or not)\n",
        "x = \"hell0\"\n",
        "y = x.isprintable()\n",
        "print(y)"
      ],
      "metadata": {
        "id": "X2YQC-HKqGv8",
        "colab": {
          "base_uri": "https://localhost:8080/"
        },
        "outputId": "0ff8901a-ea46-4122-c49e-9d6b21e54dcd"
      },
      "execution_count": null,
      "outputs": [
        {
          "output_type": "stream",
          "name": "stdout",
          "text": [
            "True\n"
          ]
        }
      ]
    },
    {
      "cell_type": "code",
      "source": [
        "#isascii\n",
        "x = \"hello\"\n",
        "y = x.isascii()\n",
        "print(y)"
      ],
      "metadata": {
        "id": "TiQAm1tyqIyM",
        "colab": {
          "base_uri": "https://localhost:8080/"
        },
        "outputId": "68828228-ee47-4eb5-8a56-452990fada56"
      },
      "execution_count": null,
      "outputs": [
        {
          "output_type": "stream",
          "name": "stdout",
          "text": [
            "True\n"
          ]
        }
      ]
    },
    {
      "cell_type": "code",
      "source": [
        "#split (sepraates a sentence into a different strings)\n",
        "x = \"hello good morning everyone\"\n",
        "y = x.split()\n",
        "print(y)"
      ],
      "metadata": {
        "colab": {
          "base_uri": "https://localhost:8080/"
        },
        "id": "1HetYndTpOOV",
        "outputId": "486ad573-1d51-40b2-b45f-ff9ffb245b86"
      },
      "execution_count": null,
      "outputs": [
        {
          "output_type": "stream",
          "name": "stdout",
          "text": [
            "['hello', 'good', 'morning', 'everyone']\n"
          ]
        }
      ]
    },
    {
      "cell_type": "code",
      "source": [
        "#join\n",
        "x = (\"join\",\"this\",\"string\")\n",
        "y = \"#\".join(x)\n",
        "print(x)"
      ],
      "metadata": {
        "id": "qEc-aARnptcL",
        "colab": {
          "base_uri": "https://localhost:8080/"
        },
        "outputId": "93854ae0-85ae-4f7d-ebc0-1a9bde3a3132"
      },
      "execution_count": null,
      "outputs": [
        {
          "output_type": "stream",
          "name": "stdout",
          "text": [
            "('join', 'this', 'string')\n"
          ]
        }
      ]
    },
    {
      "cell_type": "markdown",
      "source": [
        "spliting a string into two parts"
      ],
      "metadata": {
        "id": "mUGNA6S63xJN"
      }
    },
    {
      "cell_type": "code",
      "source": [
        "string = \"pradeep\"\n",
        "mid = len(string)//2\n",
        "left = string[:len(string)//2]\n",
        "right = string[len(string)//2:]\n",
        "print(left)\n",
        "print(right)"
      ],
      "metadata": {
        "colab": {
          "base_uri": "https://localhost:8080/"
        },
        "id": "-oawoaT_3wl5",
        "outputId": "4f95ab0f-6542-4000-b187-4cc37bc9c134"
      },
      "execution_count": 17,
      "outputs": [
        {
          "output_type": "stream",
          "name": "stdout",
          "text": [
            "pra\n",
            "deep\n"
          ]
        }
      ]
    },
    {
      "cell_type": "markdown",
      "source": [
        "Reverse a String"
      ],
      "metadata": {
        "id": "_uOylhxvtM3h"
      }
    },
    {
      "cell_type": "code",
      "source": [
        "x = \"i am a good boy\"\n",
        "y = x.split()[::-1]\n",
        "print(\" \".join(y))"
      ],
      "metadata": {
        "colab": {
          "base_uri": "https://localhost:8080/"
        },
        "id": "Avp_FI-otN-v",
        "outputId": "af4257b3-3272-4894-f472-22b1cbaa1c70"
      },
      "execution_count": 2,
      "outputs": [
        {
          "output_type": "stream",
          "name": "stdout",
          "text": [
            "boy good a am i\n"
          ]
        }
      ]
    },
    {
      "cell_type": "markdown",
      "source": [
        "# LIST METHODS\n",
        "\n",
        "---\n",
        "\n"
      ],
      "metadata": {
        "id": "yzRbwjSCh0L-"
      }
    },
    {
      "cell_type": "code",
      "source": [
        "#append\n",
        "x = ['hello','jink']\n",
        "x.append('sing')\n",
        "print(x)\n",
        "\n"
      ],
      "metadata": {
        "colab": {
          "base_uri": "https://localhost:8080/"
        },
        "id": "1IERDsLKh3Do",
        "outputId": "a8c0a901-e9f9-42f9-a3dd-774f1c2fe85a"
      },
      "execution_count": null,
      "outputs": [
        {
          "output_type": "stream",
          "name": "stdout",
          "text": [
            "['hello', 'jink', 'sing']\n"
          ]
        }
      ]
    },
    {
      "cell_type": "code",
      "source": [
        "#extend\n",
        "x = [\"hello\",\"king\"]\n",
        "z = [\"mango\",\"banana\"]\n",
        "x.extend(z)\n",
        "print(x)\n",
        "\n"
      ],
      "metadata": {
        "id": "nOUw4s_voJfC"
      },
      "execution_count": null,
      "outputs": []
    },
    {
      "cell_type": "code",
      "source": [
        "#pop\n",
        "x = [\"hello\",\"banana\",\"grapes\"]\n",
        "y = x.pop(2)\n",
        "print(y)\n",
        "\n",
        "\n"
      ],
      "metadata": {
        "id": "ZFrOJIvvoOmS"
      },
      "execution_count": null,
      "outputs": []
    },
    {
      "cell_type": "code",
      "source": [
        "#remove\n",
        "x = [\"hello\",\"banana\",\"grapes\"]\n",
        "y = x.remove(\"banana\")\n",
        "print(y)\n",
        "\n"
      ],
      "metadata": {
        "id": "2HSA0ThDoS6V"
      },
      "execution_count": null,
      "outputs": []
    },
    {
      "cell_type": "code",
      "source": [
        "#index\n",
        "x = [\"hello\",\"banana\",\"grapes\"]\n",
        "y = x.index(\"grapes\")\n",
        "print(y)\n",
        "\n"
      ],
      "metadata": {
        "id": "tM9W-5bnoWdD"
      },
      "execution_count": null,
      "outputs": []
    },
    {
      "cell_type": "code",
      "source": [
        "#count\n",
        "x = [\"hello\",\"banana\",\"grapes\"]\n",
        "y = x.count(\"l\")\n",
        "print(y)\n",
        "\n"
      ],
      "metadata": {
        "id": "NTsJk9J4ob05"
      },
      "execution_count": null,
      "outputs": []
    },
    {
      "cell_type": "code",
      "source": [
        "#reverse\n",
        "x = [\"hello\",\"banana\",\"grapes\"]\n",
        "y = x.reverse()\n",
        "print(y)\n",
        "\n"
      ],
      "metadata": {
        "id": "tG3Losbjoe9Y"
      },
      "execution_count": null,
      "outputs": []
    },
    {
      "cell_type": "code",
      "source": [
        "#sort\n",
        "x = [22,88,44,66,33]\n",
        "y = x.sort()\n",
        "print(y)\n",
        "\n"
      ],
      "metadata": {
        "id": "bkuctH9SohW6"
      },
      "execution_count": null,
      "outputs": []
    },
    {
      "cell_type": "code",
      "source": [
        "#min\n",
        "x = [22,88,44,66,33]\n",
        "y = min(x)\n",
        "print(y)\n",
        "\n"
      ],
      "metadata": {
        "id": "QOijJej_ojm1"
      },
      "execution_count": null,
      "outputs": []
    },
    {
      "cell_type": "code",
      "source": [
        "#max\n",
        "x = [22,88,44,66,33]\n",
        "y = max(x)\n",
        "print(y)"
      ],
      "metadata": {
        "id": "Ps0gUml1olWW"
      },
      "execution_count": null,
      "outputs": []
    },
    {
      "cell_type": "markdown",
      "source": [
        "# 30/03/24\n",
        "\n",
        "---\n",
        "\n"
      ],
      "metadata": {
        "id": "GWxEvPmMC6a3"
      }
    },
    {
      "cell_type": "markdown",
      "source": [
        "# TUPLE METHODS\n",
        "\n",
        "---\n",
        "\n"
      ],
      "metadata": {
        "id": "ePO2IlzInJmu"
      }
    },
    {
      "cell_type": "code",
      "source": [
        "#count\n",
        "x = (2,3,42,4,5,4,5,6,7,7,6,7,43,24,5,67)\n",
        "y = x.count(7)\n",
        "print(y)\n"
      ],
      "metadata": {
        "colab": {
          "base_uri": "https://localhost:8080/"
        },
        "id": "t65pvtYsnM6I",
        "outputId": "af7225cf-ef83-45b9-a778-dd9844c6369f"
      },
      "execution_count": null,
      "outputs": [
        {
          "output_type": "stream",
          "name": "stdout",
          "text": [
            "3\n",
            "2\n"
          ]
        }
      ]
    },
    {
      "cell_type": "code",
      "source": [
        "\n",
        "#index\n",
        "x = (2,34,45,56,77,88,334,45,44)\n",
        "y = x.index(45)\n",
        "print(y)"
      ],
      "metadata": {
        "id": "TTfvSFuOYe5J"
      },
      "execution_count": null,
      "outputs": []
    },
    {
      "cell_type": "markdown",
      "source": [
        "# SET METHODS\n",
        "\n",
        "---\n",
        "\n"
      ],
      "metadata": {
        "id": "zG5p1WxKn0LA"
      }
    },
    {
      "cell_type": "code",
      "source": [
        "#add\n",
        "x ={'apple','grapes','mango'}\n",
        "x.add(\"kiwi\")\n",
        "print(x)"
      ],
      "metadata": {
        "colab": {
          "base_uri": "https://localhost:8080/"
        },
        "id": "eXrAr6_in2sj",
        "outputId": "bb549f96-26d6-425d-d580-6b2352331245"
      },
      "execution_count": null,
      "outputs": [
        {
          "output_type": "stream",
          "name": "stdout",
          "text": [
            "{'grapes', 'apple', 'kiwi', 'mango'}\n"
          ]
        }
      ]
    },
    {
      "cell_type": "code",
      "source": [
        "#clear\n",
        "x ={'apple','grapes','mango'}\n",
        "x.clear()\n",
        "print(x)\n"
      ],
      "metadata": {
        "id": "ZPLJwcGzn3ON"
      },
      "execution_count": null,
      "outputs": []
    },
    {
      "cell_type": "code",
      "source": [
        "#copy\n",
        "x ={'apple','grapes','mango'}\n",
        "x.copy()\n",
        "print(x)\n"
      ],
      "metadata": {
        "id": "ZChKpAgMnyK6"
      },
      "execution_count": null,
      "outputs": []
    },
    {
      "cell_type": "code",
      "source": [
        "#difference\n",
        "x ={'apple','mango','grapes','dragonfruit'}\n",
        "y={'apple','guova','pineapple'}\n",
        "z = x.difference(y)\n",
        "print(z)\n"
      ],
      "metadata": {
        "id": "ncEl1Vx_nuzM"
      },
      "execution_count": null,
      "outputs": []
    },
    {
      "cell_type": "code",
      "source": [
        "#difference update\n",
        "x ={'apple','mango','grapes','dragonfruit'}\n",
        "y={'apple','guova','pineapple','dragonfruit'}\n",
        "x.difference_update(y)\n",
        "print(x)\n"
      ],
      "metadata": {
        "id": "10v3IhKXnr6x"
      },
      "execution_count": null,
      "outputs": []
    },
    {
      "cell_type": "code",
      "source": [
        "#discard\n",
        "x ={'apple','grapes','mango'}\n",
        "x.discard(\"mango\")\n",
        "print(x)\n",
        "\n"
      ],
      "metadata": {
        "id": "mYjOjKk_nokQ"
      },
      "execution_count": null,
      "outputs": []
    },
    {
      "cell_type": "code",
      "source": [
        "#pop\n",
        "x ={'apple','grapes','mango'}\n",
        "x.pop()\n",
        "print(x)\n",
        "\n"
      ],
      "metadata": {
        "id": "4leoEi2tnlbn"
      },
      "execution_count": null,
      "outputs": []
    },
    {
      "cell_type": "code",
      "source": [
        "#remove\n",
        "x ={'apple','grapes','mango'}\n",
        "x.remove('apple')\n",
        "print(x)\n",
        "\n"
      ],
      "metadata": {
        "id": "Hti_Hhkcnite"
      },
      "execution_count": null,
      "outputs": []
    },
    {
      "cell_type": "code",
      "source": [
        "#update\n",
        "x ={'apple','grapes','mango'}\n",
        "y ={'apple','kiwi','guoava'}\n",
        "x.update(y)\n",
        "print(x)\n"
      ],
      "metadata": {
        "id": "02nY5G6sngEF"
      },
      "execution_count": null,
      "outputs": []
    },
    {
      "cell_type": "code",
      "source": [
        "#intersection\n",
        "x ={'apple','grapes','mango'}\n",
        "y ={'apple','kiwi','guoava'}\n",
        "z = x.intersection(y)\n",
        "print(z)\n"
      ],
      "metadata": {
        "id": "DQFbO0aRndcH"
      },
      "execution_count": null,
      "outputs": []
    },
    {
      "cell_type": "code",
      "source": [
        "#intersection update\n",
        "x={'apple','grapes','mango'}\n",
        "y ={'apple','kiwi','guoava'}x.intersection_update(y)\n",
        "print(x)"
      ],
      "metadata": {
        "id": "zz-vJnornTrK"
      },
      "execution_count": null,
      "outputs": []
    },
    {
      "cell_type": "code",
      "source": [
        "#is disjoint\n",
        "x ={'apple','banana'}\n",
        "y={'kiwi','grapes'}\n",
        "z = x.isdisjoint(y)\n",
        "print(z)"
      ],
      "metadata": {
        "id": "U5M8O5banQPm"
      },
      "execution_count": null,
      "outputs": []
    },
    {
      "cell_type": "code",
      "source": [
        "#is subset\n",
        "x = {'apple','banana','kiwi'}\n",
        "y = {'apple','kiwi','grapes','python','java'}\n",
        "z = x.issubset(y)\n",
        "print(z)\n"
      ],
      "metadata": {
        "id": "jfc804WynNrT"
      },
      "execution_count": null,
      "outputs": []
    },
    {
      "cell_type": "code",
      "source": [
        "#is superset\n",
        "x = {'apple','banana','kiwi'}\n",
        "y = {'hut','light','fan'}\n",
        "z = x.issuperset(y)\n",
        "print(z)"
      ],
      "metadata": {
        "id": "Snd2wwEfnKHk"
      },
      "execution_count": null,
      "outputs": []
    },
    {
      "cell_type": "code",
      "source": [
        "#symmetric difference\n",
        "x = {'apple','banana','kiwi'}\n",
        "y = {'hut','light','fan'}\n",
        "z = x.symmetric_difference(y)\n",
        "print(z)\n",
        "\n"
      ],
      "metadata": {
        "id": "3qUBzsSgnDSE"
      },
      "execution_count": null,
      "outputs": []
    },
    {
      "cell_type": "code",
      "source": [
        "#symmetric_difference_update\n",
        "x = {'apple','banana','kiwi'}\n",
        "y = {'hut','light','fan'}\n",
        "x.symmetric_difference_update(y)\n",
        "print(x)\n"
      ],
      "metadata": {
        "id": "aJlqmaJ1nAVQ"
      },
      "execution_count": null,
      "outputs": []
    },
    {
      "cell_type": "code",
      "source": [
        "#union\n",
        "x = {\"apple\", \"banana\", \"cherry\"}\n",
        "y = {\"google\", \"microsoft\", \"apple\"}\n",
        "z = x.union(y)\n",
        "print(z)"
      ],
      "metadata": {
        "id": "YD-_soTPm80G"
      },
      "execution_count": null,
      "outputs": []
    },
    {
      "cell_type": "markdown",
      "source": [
        "# DICTIONARY METHODS\n",
        "\n",
        "---\n",
        "\n"
      ],
      "metadata": {
        "id": "55OTuo-s7TFk"
      }
    },
    {
      "cell_type": "code",
      "source": [
        "#clear\n",
        "brand ={\n",
        "    \"car\":\"mercedes\",\n",
        "    \"model\":\"g-wagon\",\n",
        "    \"year\":2022\n",
        "}\n",
        "brand.clear()\n",
        "print(brand)"
      ],
      "metadata": {
        "colab": {
          "base_uri": "https://localhost:8080/"
        },
        "id": "lshO7Fte8A6d",
        "outputId": "d1918871-200b-480f-dc5d-9bbc04fa8b65"
      },
      "execution_count": null,
      "outputs": [
        {
          "output_type": "stream",
          "name": "stdout",
          "text": [
            "{}\n"
          ]
        }
      ]
    },
    {
      "cell_type": "code",
      "source": [
        "#copy\n",
        "brand ={\n",
        "    \"car\":\"mercedes\",\n",
        "    \"model\":\"g-wagon\",\n",
        "    \"year\":2022\n",
        "}\n",
        "brand.copy()\n",
        "print(brand)\n",
        "\n",
        "\n"
      ],
      "metadata": {
        "id": "FvKpoTLjmI7E"
      },
      "execution_count": null,
      "outputs": []
    },
    {
      "cell_type": "code",
      "source": [
        "#fromkeys\n",
        "x = ('key1','key2','key3')\n",
        "y = 0\n",
        "z = dict.fromkeys(x,y)\n",
        "print(z)\n",
        "\n"
      ],
      "metadata": {
        "id": "1Ai_pk_PmRql"
      },
      "execution_count": null,
      "outputs": []
    },
    {
      "cell_type": "code",
      "source": [
        "#get\n",
        "brand ={\n",
        "    \"car\":\"mercedes\",\n",
        "    \"model\":\"g-wagon\",\n",
        "    \"year\":2022\n",
        "}\n",
        "x = brand.get(\"model\")\n",
        "print(x)\n",
        "\n"
      ],
      "metadata": {
        "id": "UaJoajbmmW8i"
      },
      "execution_count": null,
      "outputs": []
    },
    {
      "cell_type": "code",
      "source": [
        "#items\n",
        "brand ={\n",
        "    \"car\":\"mercedes\",\n",
        "    \"model\":\"g-wagon\",\n",
        "    \"year\":2022\n",
        "}\n",
        "x = brand.items()\n",
        "print(x)\n",
        "\n",
        "\n",
        "\n"
      ],
      "metadata": {
        "id": "bOL3888Bmbhw"
      },
      "execution_count": null,
      "outputs": []
    },
    {
      "cell_type": "code",
      "source": [
        "#values\n",
        "brand ={\n",
        "    \"car\":\"mercedes\",\n",
        "    \"model\":\"g-wagon\",\n",
        "    \"year\":2022\n",
        "}\n",
        "x = brand.values()\n",
        "print(x)\n",
        "\n",
        "\n",
        "\n"
      ],
      "metadata": {
        "id": "W6xh-2LMmlUq"
      },
      "execution_count": null,
      "outputs": []
    },
    {
      "cell_type": "code",
      "source": [
        "#keys\n",
        "brand ={\n",
        "    \"car\":\"mercedes\",\n",
        "    \"model\":\"g-wagon\",\n",
        "    \"year\":2022\n",
        "}\n",
        "x = brand.keys()\n",
        "print(x)\n",
        "\n"
      ],
      "metadata": {
        "id": "E9RAuUwxmq7f"
      },
      "execution_count": null,
      "outputs": []
    },
    {
      "cell_type": "code",
      "source": [
        "#pop\n",
        "brand ={\n",
        "    \"car\":\"mercedes\",\n",
        "    \"model\":\"g-wagon\",\n",
        "    \"year\":2022\n",
        "}\n",
        "x = brand.pop(\"model\")\n",
        "print(x)\n",
        "\n"
      ],
      "metadata": {
        "id": "RzaaLupYmvhg"
      },
      "execution_count": null,
      "outputs": []
    },
    {
      "cell_type": "code",
      "source": [
        "#pop item\n",
        "brand ={\n",
        "    \"car\":\"mercedes\",\n",
        "    \"model\":\"g-wagon\",\n",
        "    \"year\":2022\n",
        "}\n",
        "brand.popitem()\n",
        "print(brand)\n",
        "\n",
        "\n"
      ],
      "metadata": {
        "id": "nY1K_wvwmzUh"
      },
      "execution_count": null,
      "outputs": []
    },
    {
      "cell_type": "code",
      "source": [
        "#set default\n",
        "brand ={\n",
        "    \"car\":\"mercedes\",\n",
        "    \"model\":\"g-wagon\",\n",
        "    \"year\":2022\n",
        "}\n",
        "x = brand.setdefault(\"model\",\"s-class\")\n",
        "print(x)\n",
        "\n",
        "\n"
      ],
      "metadata": {
        "id": "cjIhBZpEm2s9"
      },
      "execution_count": null,
      "outputs": []
    },
    {
      "cell_type": "code",
      "source": [
        "#update\n",
        "brand ={\n",
        "    \"car\":\"mercedes\",\n",
        "    \"model\":\"g-wagon\",\n",
        "    \"year\":2022\n",
        "}\n",
        "brand.update({\"owner\":\"balu\"})\n",
        "print(brand)"
      ],
      "metadata": {
        "id": "XYsOCSixm4vq"
      },
      "execution_count": null,
      "outputs": []
    },
    {
      "cell_type": "markdown",
      "source": [
        "# 02/04/24\n",
        "\n",
        "---\n",
        "\n"
      ],
      "metadata": {
        "id": "MSD2JgUFFktq"
      }
    },
    {
      "cell_type": "markdown",
      "source": [
        "password validation using for loop"
      ],
      "metadata": {
        "id": "_1NFSuiRFnpL"
      }
    },
    {
      "cell_type": "code",
      "source": [
        "def validate_password(password):\n",
        "    min_length = 8\n",
        "    has_uppercase = False\n",
        "    has_lowercase = False\n",
        "    has_digit = False\n",
        "    has_special_char = False\n",
        "    special_characters = \"!@#$%^&*()_+[]{}|;:,.<>?~\"\n",
        "\n",
        "    for char in password:\n",
        "        if char.isupper():\n",
        "            has_uppercase = True\n",
        "        elif char.islower():\n",
        "            has_lowercase = True\n",
        "        elif char.isdigit():\n",
        "            has_digit = True\n",
        "        elif char in special_characters:\n",
        "            has_special_char = True\n",
        "\n",
        "    if (\n",
        "        len(password) >= min_length\n",
        "        and has_uppercase\n",
        "        and has_lowercase\n",
        "        and has_digit\n",
        "        and has_special_char\n",
        "    ):\n",
        "        return True\n",
        "    else:\n",
        "        return False\n",
        "\n",
        "password = input(\"Enter your password: \")\n",
        "if validate_password(password):\n",
        "    print(\"Valid password.\")\n",
        "else:\n",
        "    print(\"Invalid password. Please make sure your password meets the criteria.\")\n"
      ],
      "metadata": {
        "colab": {
          "base_uri": "https://localhost:8080/"
        },
        "id": "EJOD6RScGAkP",
        "outputId": "f63ca9d5-b198-42d3-e82b-f154e40ebf0a"
      },
      "execution_count": null,
      "outputs": [
        {
          "output_type": "stream",
          "name": "stdout",
          "text": [
            "Enter your password: safnoubag\n",
            "Invalid password. Please make sure your password meets the criteria.\n"
          ]
        }
      ]
    },
    {
      "cell_type": "markdown",
      "source": [
        "find the maximum and minimum tempartures"
      ],
      "metadata": {
        "id": "iRW72QwfGdM_"
      }
    },
    {
      "cell_type": "code",
      "source": [
        "x = [22,33,44,55,66,77,88]\n",
        "\n",
        "max_temp = x[0]\n",
        "min_temp = x[0]\n",
        "\n",
        "for i in x:\n",
        "  if i > max_temp:\n",
        "    max_temp = i\n",
        "  if i < min_temp:\n",
        "    max_temp = i\n",
        "print(f\"maximum temperature:{max_temp}\")\n",
        "print(f\"minimum_temperture:{min_temp}\")\n"
      ],
      "metadata": {
        "colab": {
          "base_uri": "https://localhost:8080/"
        },
        "id": "Y4DSuT6cHASW",
        "outputId": "065a8bf1-b802-4168-e384-fafd1ded0386"
      },
      "execution_count": null,
      "outputs": [
        {
          "output_type": "stream",
          "name": "stdout",
          "text": [
            "maximum temperature:88\n",
            "minimum_temperture:22\n"
          ]
        }
      ]
    },
    {
      "cell_type": "markdown",
      "source": [
        "find the average temperature:"
      ],
      "metadata": {
        "id": "UF_Rcv7rIUuM"
      }
    },
    {
      "cell_type": "code",
      "source": [
        "x = [22,33,44,55]\n",
        "y = 0\n",
        "z = len(x)\n",
        "\n",
        "for i in x:\n",
        "  y += i\n",
        "\n",
        "average_temp = y / z\n",
        "print(f\"AVERAGE TEMPERATURE:{average_temp}\")\n"
      ],
      "metadata": {
        "colab": {
          "base_uri": "https://localhost:8080/"
        },
        "id": "JbNSkRhpIYOv",
        "outputId": "606daf11-db11-43ba-cd8c-d1b20d07f4c4"
      },
      "execution_count": null,
      "outputs": [
        {
          "output_type": "stream",
          "name": "stdout",
          "text": [
            "AVERAGE TEMPERATURE:38.5\n"
          ]
        }
      ]
    },
    {
      "cell_type": "markdown",
      "source": [
        "find gcd of two numbers using import math.gcd\n",
        "\n"
      ],
      "metadata": {
        "id": "bMAuegSRJfqC"
      }
    },
    {
      "cell_type": "code",
      "source": [
        "import math\n",
        "\n",
        "num1 = 12\n",
        "num2 =18\n",
        "\n",
        "x = math.gcd(num1,num2)\n",
        "print(f\"gcd of {num1} and {num2} is {x}\")"
      ],
      "metadata": {
        "colab": {
          "base_uri": "https://localhost:8080/"
        },
        "id": "UQSNlf8jB8DQ",
        "outputId": "0792553e-644e-4b40-8c3a-79edb4f83253"
      },
      "execution_count": null,
      "outputs": [
        {
          "output_type": "stream",
          "name": "stdout",
          "text": [
            "gcd of 12 and 18 is 6\n"
          ]
        }
      ]
    },
    {
      "cell_type": "markdown",
      "source": [
        "# 03/04/24                              \n",
        "\n",
        "---\n",
        "\n"
      ],
      "metadata": {
        "id": "I_oFECexEkfo"
      }
    },
    {
      "cell_type": "markdown",
      "source": [
        "Built in functions for python"
      ],
      "metadata": {
        "id": "9u6a2Le6INGi"
      }
    },
    {
      "cell_type": "code",
      "source": [
        "#abs function\n",
        "x = abs(-7.05)\n",
        "print(x)"
      ],
      "metadata": {
        "colab": {
          "base_uri": "https://localhost:8080/"
        },
        "id": "JcOOZ05uIS3E",
        "outputId": "eee008c4-ca89-446c-aeb5-576683bda305"
      },
      "execution_count": null,
      "outputs": [
        {
          "output_type": "stream",
          "name": "stdout",
          "text": [
            "7.05\n"
          ]
        }
      ]
    },
    {
      "cell_type": "code",
      "source": [
        "#all function\n",
        "x = ('true','false','true')\n",
        "y = all(x)\n",
        "print(y)"
      ],
      "metadata": {
        "colab": {
          "base_uri": "https://localhost:8080/"
        },
        "id": "8CGh6rCEJDsy",
        "outputId": "af6c66af-d194-40f5-fc3f-7b8add043eba"
      },
      "execution_count": null,
      "outputs": [
        {
          "output_type": "stream",
          "name": "stdout",
          "text": [
            "True\n"
          ]
        }
      ]
    },
    {
      "cell_type": "code",
      "source": [
        "#any function\n",
        "x = ('true','false','true')\n",
        "y = any(x)\n",
        "print(y)"
      ],
      "metadata": {
        "colab": {
          "base_uri": "https://localhost:8080/"
        },
        "id": "zCwS4j9_KIfn",
        "outputId": "c4c90baf-f5dc-4bfe-81f3-31ccd1c37cad"
      },
      "execution_count": null,
      "outputs": [
        {
          "output_type": "stream",
          "name": "stdout",
          "text": [
            "True\n"
          ]
        }
      ]
    },
    {
      "cell_type": "code",
      "source": [
        "#ascii function\n",
        "x = (\"this is prådeep\")\n",
        "y = ascii(x)\n",
        "print(y)"
      ],
      "metadata": {
        "colab": {
          "base_uri": "https://localhost:8080/"
        },
        "id": "UMVwnfQfKy2T",
        "outputId": "50fa07e4-89fa-4b8b-a58e-db9f0abdeeb3"
      },
      "execution_count": null,
      "outputs": [
        {
          "output_type": "stream",
          "name": "stdout",
          "text": [
            "'this is pr\\xe5deep'\n"
          ]
        }
      ]
    },
    {
      "cell_type": "code",
      "source": [
        "#bool\n",
        "x= 1\n",
        "print(bool(x))"
      ],
      "metadata": {
        "colab": {
          "base_uri": "https://localhost:8080/"
        },
        "id": "fEVKDGkvW7sX",
        "outputId": "b60f195e-6010-4e89-b822-04b20fada9f0"
      },
      "execution_count": null,
      "outputs": [
        {
          "output_type": "stream",
          "name": "stdout",
          "text": [
            "True\n"
          ]
        }
      ]
    },
    {
      "cell_type": "code",
      "source": [
        "#input\n",
        "x= int(input())\n",
        "print(x)"
      ],
      "metadata": {
        "colab": {
          "base_uri": "https://localhost:8080/"
        },
        "id": "LW9Y_IknXFGg",
        "outputId": "30b04709-1463-475f-f71f-72462c7412cd"
      },
      "execution_count": null,
      "outputs": [
        {
          "output_type": "stream",
          "name": "stdout",
          "text": [
            "3\n",
            "3\n"
          ]
        }
      ]
    },
    {
      "cell_type": "code",
      "source": [
        "#int\n",
        "x = \"30\"\n",
        "y = int(x)\n",
        "print(y)"
      ],
      "metadata": {
        "colab": {
          "base_uri": "https://localhost:8080/"
        },
        "id": "XZiykPVwZnQX",
        "outputId": "27642426-c3a4-4f65-fd5c-19c8173a4446"
      },
      "execution_count": null,
      "outputs": [
        {
          "output_type": "stream",
          "name": "stdout",
          "text": [
            "30\n"
          ]
        }
      ]
    },
    {
      "cell_type": "code",
      "source": [
        "#str\n",
        "x = 30\n",
        "y= str(x)\n",
        "print(y)"
      ],
      "metadata": {
        "colab": {
          "base_uri": "https://localhost:8080/"
        },
        "id": "1Is_U_mLZvAP",
        "outputId": "0ae8d2f9-0c9b-4caa-db94-39fa93ef2c04"
      },
      "execution_count": null,
      "outputs": [
        {
          "output_type": "stream",
          "name": "stdout",
          "text": [
            "30\n"
          ]
        }
      ]
    },
    {
      "cell_type": "code",
      "source": [
        "#list\n",
        "x = [11,22,33,44,55]\n",
        "print(x)"
      ],
      "metadata": {
        "colab": {
          "base_uri": "https://localhost:8080/"
        },
        "id": "vI9ScD7XZ6Zg",
        "outputId": "d00b5596-60b0-455f-ba53-2dee7cf16c38"
      },
      "execution_count": null,
      "outputs": [
        {
          "output_type": "stream",
          "name": "stdout",
          "text": [
            "[11, 22, 33, 44, 55]\n"
          ]
        }
      ]
    },
    {
      "cell_type": "code",
      "source": [
        "#enumerate\n",
        "x = (\"hello\",\"hii\",\"bye bye\")\n",
        "y = enumerate(x)\n",
        "print(y)"
      ],
      "metadata": {
        "colab": {
          "base_uri": "https://localhost:8080/"
        },
        "id": "_S21lCGAaG_T",
        "outputId": "556d90ac-223a-40d9-cc93-816943a2f10f"
      },
      "execution_count": null,
      "outputs": [
        {
          "output_type": "stream",
          "name": "stdout",
          "text": [
            "<enumerate object at 0x7e7e09227100>\n"
          ]
        }
      ]
    },
    {
      "cell_type": "markdown",
      "source": [
        "Remove duplicates from a list"
      ],
      "metadata": {
        "id": "qT2gyKF9JwyT"
      }
    },
    {
      "cell_type": "code",
      "source": [
        "x = [22,33,44,44,55,66]\n",
        "y = set(x)\n",
        "z = list(y)\n",
        "print(z)"
      ],
      "metadata": {
        "colab": {
          "base_uri": "https://localhost:8080/"
        },
        "id": "A16WaNXwJO7N",
        "outputId": "c885a219-6820-4352-d015-20248a884f07"
      },
      "execution_count": null,
      "outputs": [
        {
          "output_type": "stream",
          "name": "stdout",
          "text": [
            "[33, 66, 44, 22, 55]\n"
          ]
        }
      ]
    },
    {
      "cell_type": "markdown",
      "source": [
        "find all the odd numbers in a list and then sum the odd numbers"
      ],
      "metadata": {
        "id": "0btvnKpo6d2o"
      }
    },
    {
      "cell_type": "code",
      "source": [
        "x = [1, 2, 3, 4, 5, 6, 7, 8, 9, 10, 11, 12, 13, 14, 15]\n",
        "even_num = []\n",
        "odd_num = []\n",
        "\n",
        "for i in x:\n",
        "    if i % 2 == 0:\n",
        "        even_num.append(i)\n",
        "    else:\n",
        "        odd_num.append(i)\n",
        "\n",
        "z = sum(odd_num)\n",
        "print(z)\n"
      ],
      "metadata": {
        "colab": {
          "base_uri": "https://localhost:8080/"
        },
        "id": "ljok8TJO6Aij",
        "outputId": "e0784e7d-d480-4c27-e0a9-b907e0172412"
      },
      "execution_count": null,
      "outputs": [
        {
          "output_type": "stream",
          "name": "stdout",
          "text": [
            "64\n"
          ]
        }
      ]
    },
    {
      "cell_type": "markdown",
      "source": [
        "# 04/04/24\n",
        "\n",
        "---\n",
        "\n"
      ],
      "metadata": {
        "id": "osLiofQfQGDW"
      }
    },
    {
      "cell_type": "markdown",
      "source": [
        "# MATRIX PROBLEMS USING NUMPY"
      ],
      "metadata": {
        "id": "BBi_GiprQM8I"
      }
    },
    {
      "cell_type": "markdown",
      "source": [
        "ADDING TWO MATRICES USING NUMPY"
      ],
      "metadata": {
        "id": "Be06XtDsxoEp"
      }
    },
    {
      "cell_type": "code",
      "source": [
        "import numpy as np\n",
        "\n",
        "matrix_a = np.array([[22,33],[33,44]])\n",
        "matrix_b = np.array([[44,55],[66,77]])\n",
        "\n",
        "add_matrix = np.add(matrix_a,matrix_b)\n",
        "\n",
        "print(add_matrix)\n",
        "\n"
      ],
      "metadata": {
        "colab": {
          "base_uri": "https://localhost:8080/"
        },
        "id": "N2y_DysmyQpj",
        "outputId": "44fc0a6b-0f00-47a1-800e-2db62505de4f"
      },
      "execution_count": null,
      "outputs": [
        {
          "output_type": "stream",
          "name": "stdout",
          "text": [
            "[[ 66  88]\n",
            " [ 99 121]]\n"
          ]
        }
      ]
    },
    {
      "cell_type": "markdown",
      "source": [
        "SUBTRACTING TWO MATRICES USING NUMPY"
      ],
      "metadata": {
        "id": "PDRcACs0y3hy"
      }
    },
    {
      "cell_type": "code",
      "source": [
        "import numpy as np\n",
        "\n",
        "matrix_a = np.array([[44,33],[66,77]])\n",
        "matrix_b = np.array([[99,88],[22,33]])\n",
        "\n",
        "sub_matrix = (matrix_a - matrix_b)\n",
        "\n",
        "print(sub_matrix)"
      ],
      "metadata": {
        "colab": {
          "base_uri": "https://localhost:8080/"
        },
        "id": "S2wPUJdEy_wa",
        "outputId": "1326792a-6dec-4a88-f5ea-bc1207743ed3"
      },
      "execution_count": null,
      "outputs": [
        {
          "output_type": "stream",
          "name": "stdout",
          "text": [
            "[[-55 -55]\n",
            " [ 44  44]]\n"
          ]
        }
      ]
    },
    {
      "cell_type": "markdown",
      "source": [
        "MULTIPLICATION OF TWO MATRICES USING NUMPY"
      ],
      "metadata": {
        "id": "EOuiYUMTzuOg"
      }
    },
    {
      "cell_type": "code",
      "source": [
        "import numpy as np\n",
        "\n",
        "matrix_a = [[33,44],[55,66]]\n",
        "matrix_b = [[33,44],[77,88]]\n",
        "\n",
        "multi_matrix = [[00,00],[00,00]]\n",
        "\n",
        "multi_matrix = np.dot(matrix_a,matrix_b)\n",
        "\n",
        "print(multi_matrix)"
      ],
      "metadata": {
        "colab": {
          "base_uri": "https://localhost:8080/"
        },
        "id": "2889upnQ0HCl",
        "outputId": "8e386ae2-36c1-414c-f681-8bd07b8f4781"
      },
      "execution_count": null,
      "outputs": [
        {
          "output_type": "stream",
          "name": "stdout",
          "text": [
            "[[4477 5324]\n",
            " [6897 8228]]\n"
          ]
        }
      ]
    },
    {
      "cell_type": "markdown",
      "source": [
        "ELEMENTS SWAPING IN MATRICES"
      ],
      "metadata": {
        "id": "BcoIuutwEZCU"
      }
    },
    {
      "cell_type": "code",
      "source": [
        "matrice = [[22,33,44],[55,66,77],[99,44,77]]\n",
        "\n",
        "matrice[0][0], matrice[2][2] = matrice[2][2] , matrice[0][0]\n",
        "\n",
        "for row in matrice:\n",
        "  print(row)"
      ],
      "metadata": {
        "colab": {
          "base_uri": "https://localhost:8080/"
        },
        "id": "CahLLB34EovF",
        "outputId": "d2b3a400-3848-4d84-daca-0933cf508691"
      },
      "execution_count": null,
      "outputs": [
        {
          "output_type": "stream",
          "name": "stdout",
          "text": [
            "[77, 33, 44]\n",
            "[55, 66, 77]\n",
            "[99, 44, 22]\n"
          ]
        }
      ]
    },
    {
      "cell_type": "markdown",
      "source": [
        "TRANSPOSE A MATRIX"
      ],
      "metadata": {
        "id": "_UlwHKk4Fm18"
      }
    },
    {
      "cell_type": "code",
      "source": [
        "import numpy as np\n",
        "\n",
        "m = [[22,33,44],[44,55,66]]\n",
        "n = np.transpose(m)\n",
        "print(n)\n"
      ],
      "metadata": {
        "colab": {
          "base_uri": "https://localhost:8080/"
        },
        "id": "pDuFi8ltFpg5",
        "outputId": "9a53f120-f439-4a36-f6a9-90e7087e3a2f"
      },
      "execution_count": null,
      "outputs": [
        {
          "output_type": "stream",
          "name": "stdout",
          "text": [
            "[[22 44]\n",
            " [33 55]\n",
            " [44 66]]\n"
          ]
        }
      ]
    },
    {
      "cell_type": "markdown",
      "source": [
        "# STAR PATTERNS\n",
        "\n",
        "---\n",
        "\n"
      ],
      "metadata": {
        "id": "OggajCugPHFB"
      }
    },
    {
      "cell_type": "code",
      "source": [
        "#square\n",
        "for i in range(0,5):\n",
        "  for j in range(0,5):\n",
        "    print('*',end=\" \")\n",
        "  print()"
      ],
      "metadata": {
        "colab": {
          "base_uri": "https://localhost:8080/"
        },
        "id": "1spwbrSWPI7e",
        "outputId": "e92d199f-85af-44fb-f3dd-13f9b51995d4"
      },
      "execution_count": null,
      "outputs": [
        {
          "output_type": "stream",
          "name": "stdout",
          "text": [
            "* * * * * \n",
            "* * * * * \n",
            "* * * * * \n",
            "* * * * * \n",
            "* * * * * \n"
          ]
        }
      ]
    },
    {
      "cell_type": "code",
      "source": [
        "#triangle\n",
        "for i in range(0,5):\n",
        "  for j in range(0,i+1):\n",
        "    print('*',end=\" \")\n",
        "  print()"
      ],
      "metadata": {
        "colab": {
          "base_uri": "https://localhost:8080/"
        },
        "id": "Fx8id0gHPbH5",
        "outputId": "4c6f64b7-5aae-4512-d3ea-f58368855a5c"
      },
      "execution_count": null,
      "outputs": [
        {
          "output_type": "stream",
          "name": "stdout",
          "text": [
            "* \n",
            "* * \n",
            "* * * \n",
            "* * * * \n",
            "* * * * * \n"
          ]
        }
      ]
    },
    {
      "cell_type": "code",
      "source": [
        "#reverse triangle\n",
        "for i in range(0,5):\n",
        "  for j in range(i,5):\n",
        "    print('*', end=\" \")\n",
        "  print()"
      ],
      "metadata": {
        "colab": {
          "base_uri": "https://localhost:8080/"
        },
        "id": "cfLjQUpvPqaa",
        "outputId": "73035b52-235d-40b7-cc79-297794fc0101"
      },
      "execution_count": null,
      "outputs": [
        {
          "output_type": "stream",
          "name": "stdout",
          "text": [
            "* * * * * \n",
            "* * * * \n",
            "* * * \n",
            "* * \n",
            "* \n"
          ]
        }
      ]
    },
    {
      "cell_type": "code",
      "source": [
        "#triangle on another side\n",
        "for i in range(0,5):\n",
        "  for j in range(i,5):\n",
        "    print(' ',end=\" \")\n",
        "  for k in range(0,i+1):\n",
        "    print('*',end=\" \")\n",
        "  print()"
      ],
      "metadata": {
        "colab": {
          "base_uri": "https://localhost:8080/"
        },
        "id": "Pd_cM5wfQBDL",
        "outputId": "037bf744-42cf-405e-bebb-5a10aa11bf40"
      },
      "execution_count": null,
      "outputs": [
        {
          "output_type": "stream",
          "name": "stdout",
          "text": [
            "          * \n",
            "        * * \n",
            "      * * * \n",
            "    * * * * \n",
            "  * * * * * \n"
          ]
        }
      ]
    },
    {
      "cell_type": "code",
      "source": [
        "#triangle on another side reverse\n",
        "for i in range(0,5):\n",
        "  for j in range(0,i+1):\n",
        "    print(' ',end=\" \")\n",
        "  for k in range(i,5):\n",
        "    print('*',end=\" \")\n",
        "  print()"
      ],
      "metadata": {
        "colab": {
          "base_uri": "https://localhost:8080/"
        },
        "id": "nd6apic2RbAS",
        "outputId": "589f0cf2-679a-4c5e-ef64-7dffd28b30bc"
      },
      "execution_count": null,
      "outputs": [
        {
          "output_type": "stream",
          "name": "stdout",
          "text": [
            "  * * * * * \n",
            "    * * * * \n",
            "      * * * \n",
            "        * * \n",
            "          * \n"
          ]
        }
      ]
    },
    {
      "cell_type": "code",
      "source": [
        "#equlateral triangle\n",
        "for i in range(0,5):\n",
        "  for j in range(0,5-1-i):\n",
        "    print(end=\" \")\n",
        "  for k in range(0,i+1):\n",
        "    print('*',end=\" \")\n",
        "  print()"
      ],
      "metadata": {
        "colab": {
          "base_uri": "https://localhost:8080/"
        },
        "id": "AYG_xWq5SbKz",
        "outputId": "2f23f12c-bb2c-4eb8-ca35-f47a3ef4e447"
      },
      "execution_count": null,
      "outputs": [
        {
          "output_type": "stream",
          "name": "stdout",
          "text": [
            "    * \n",
            "   * * \n",
            "  * * * \n",
            " * * * * \n",
            "* * * * * \n"
          ]
        }
      ]
    },
    {
      "cell_type": "code",
      "source": [
        "#reverse equilateral triangle\n",
        "for i in range(5,0,-1):\n",
        "  for j in range(0,5-i):\n",
        "    print(end=\" \")\n",
        "  for k in range(0,i):\n",
        "    print(\"*\", end=\" \")\n",
        "  print()"
      ],
      "metadata": {
        "colab": {
          "base_uri": "https://localhost:8080/"
        },
        "id": "8htwoXhAS1z7",
        "outputId": "cc3481b9-ad12-43d0-8ebe-2c66514dd5ec"
      },
      "execution_count": null,
      "outputs": [
        {
          "output_type": "stream",
          "name": "stdout",
          "text": [
            "* * * * * \n",
            " * * * * \n",
            "  * * * \n",
            "   * * \n",
            "    * \n"
          ]
        }
      ]
    },
    {
      "cell_type": "code",
      "source": [
        "#diamond pattern\n",
        "for i in range(0,5):\n",
        "  for j in range(0,5-1-i):\n",
        "    print(end=\" \")\n",
        "  for k in range(0,i+1):\n",
        "    print(\"*\",end=\" \")\n",
        "  print()\n",
        "for i in range(5,0,-1):\n",
        "  for j in range(0,5-i):\n",
        "    print(end=\" \")\n",
        "  for k in range(0,i):\n",
        "    print(\"*\",end=\" \")\n",
        "  print()"
      ],
      "metadata": {
        "colab": {
          "base_uri": "https://localhost:8080/"
        },
        "id": "bHMRIbFtTnV3",
        "outputId": "73b1c7b2-fe03-4336-c0c4-f120f3581525"
      },
      "execution_count": null,
      "outputs": [
        {
          "output_type": "stream",
          "name": "stdout",
          "text": [
            "    * \n",
            "   * * \n",
            "  * * * \n",
            " * * * * \n",
            "* * * * * \n",
            "* * * * * \n",
            " * * * * \n",
            "  * * * \n",
            "   * * \n",
            "    * \n"
          ]
        }
      ]
    },
    {
      "cell_type": "code",
      "source": [
        "rows = 5\n",
        "columns = 5\n",
        "for i in range(1, rows + 1):\n",
        "    for j in range(i, i + rows * columns, rows):\n",
        "        print(j, end=\" \")\n",
        "    print()"
      ],
      "metadata": {
        "colab": {
          "base_uri": "https://localhost:8080/"
        },
        "id": "YVG-3RA_9Vem",
        "outputId": "ea045e03-ef9c-40fe-f6bc-b2538ec85531"
      },
      "execution_count": null,
      "outputs": [
        {
          "output_type": "stream",
          "name": "stdout",
          "text": [
            "1 6 11 16 21 \n",
            "2 7 12 17 22 \n",
            "3 8 13 18 23 \n",
            "4 9 14 19 24 \n",
            "5 10 15 20 25 \n"
          ]
        }
      ]
    },
    {
      "cell_type": "code",
      "source": [
        "#alphabetical pattern\n",
        "rows = 6\n",
        "\n",
        "current_char = ord('A')\n",
        "\n",
        "for i in range(1, rows + 1):\n",
        "    for j in range(1, i + 1):\n",
        "        print(chr(current_char), end=\" \")\n",
        "        current_char = (current_char - 65 + 1) % 26 + 65\n",
        "    print()"
      ],
      "metadata": {
        "colab": {
          "base_uri": "https://localhost:8080/"
        },
        "id": "tC5yVlQUIXz2",
        "outputId": "c67781af-bb62-4a56-98a3-1ff78667911d"
      },
      "execution_count": null,
      "outputs": [
        {
          "output_type": "stream",
          "name": "stdout",
          "text": [
            "A \n",
            "B C \n",
            "D E F \n",
            "G H I J \n",
            "K L M N O \n",
            "P Q R S T U \n"
          ]
        }
      ]
    },
    {
      "cell_type": "code",
      "source": [
        "#inverted alphabetical pattern\n",
        "rows = 6\n",
        "\n",
        "current_char = ord('A')\n",
        "\n",
        "for i in range(rows, 0, -1):\n",
        "    for j in range(i):\n",
        "        print(chr(current_char), end=\" \")\n",
        "        current_char = (current_char - 65 + 1) % 26 + 65\n",
        "    print()"
      ],
      "metadata": {
        "colab": {
          "base_uri": "https://localhost:8080/"
        },
        "id": "1Vr85M2xMXmj",
        "outputId": "7e97f23f-8b79-40b0-92c4-b220e3158092"
      },
      "execution_count": null,
      "outputs": [
        {
          "output_type": "stream",
          "name": "stdout",
          "text": [
            "A B C D E F \n",
            "G H I J K \n",
            "L M N O \n",
            "P Q R \n",
            "S T \n",
            "U \n"
          ]
        }
      ]
    },
    {
      "cell_type": "markdown",
      "source": [
        "# Test-1\n",
        "\n",
        "---\n",
        "\n"
      ],
      "metadata": {
        "id": "O_df8EW6E63g"
      }
    },
    {
      "cell_type": "markdown",
      "source": [
        "Write a program to find a minimum of three numbers.(Take user input)"
      ],
      "metadata": {
        "id": "yTNQJE2hE-SA"
      }
    },
    {
      "cell_type": "code",
      "source": [
        "x = int(input(\"enter numer a:\"))\n",
        "y = int(input(\"enter numer b:\"))\n",
        "z = int(input(\"enter numer c:\"))\n",
        "p = int(input(\"enter numer d:\"))\n",
        "\n",
        "q = x,y,z,p\n",
        "\n",
        "r = min(q)\n",
        "print(r)"
      ],
      "metadata": {
        "colab": {
          "base_uri": "https://localhost:8080/"
        },
        "id": "67f8ueh2E9Z8",
        "outputId": "c57b7cbc-e37c-46a5-800d-d5bafa4d5fa7"
      },
      "execution_count": null,
      "outputs": [
        {
          "output_type": "stream",
          "name": "stdout",
          "text": [
            "enter numer a:23\n",
            "enter numer b:55\n",
            "enter numer c:67\n",
            "enter numer d:43\n",
            "23\n"
          ]
        }
      ]
    },
    {
      "cell_type": "markdown",
      "source": [
        "Give the total count of counter at the end of the programme.\n"
      ],
      "metadata": {
        "id": "M5b35J9KGgww"
      }
    },
    {
      "cell_type": "code",
      "source": [
        "# counter=0\n",
        "# While (counter++):\n",
        "# \tcounter+=2\n"
      ],
      "metadata": {
        "id": "TF4nScgAGkba"
      },
      "execution_count": null,
      "outputs": []
    },
    {
      "cell_type": "markdown",
      "source": [
        "Find even and odd without using (%) .\n"
      ],
      "metadata": {
        "id": "4d9MSIODGsFH"
      }
    },
    {
      "cell_type": "code",
      "source": [
        "number = int(input(\"Enter a number: \"))\n",
        "\n",
        "is_even = number % 2 == 0\n",
        "\n",
        "if is_even:\n",
        "    print(number, \"is even\")\n",
        "else:\n",
        "    print(number, \"is odd\")\n"
      ],
      "metadata": {
        "colab": {
          "base_uri": "https://localhost:8080/"
        },
        "id": "CheJT1a0Gxb9",
        "outputId": "55bfb22d-d565-4c07-fcc7-48d78a9ccc08"
      },
      "execution_count": null,
      "outputs": [
        {
          "output_type": "stream",
          "name": "stdout",
          "text": [
            "Enter a number: 33\n",
            "33 is odd\n"
          ]
        }
      ]
    },
    {
      "cell_type": "markdown",
      "source": [
        "give output for this code\n"
      ],
      "metadata": {
        "id": "n_3rLq3cHsa2"
      }
    },
    {
      "cell_type": "code",
      "source": [
        "print(\"python\"[1+1])"
      ],
      "metadata": {
        "colab": {
          "base_uri": "https://localhost:8080/"
        },
        "id": "u0S79x-MHzpj",
        "outputId": "6041cc26-5c27-43c4-c3fd-48f5dde984b0"
      },
      "execution_count": null,
      "outputs": [
        {
          "output_type": "stream",
          "name": "stdout",
          "text": [
            "t\n"
          ]
        }
      ]
    },
    {
      "cell_type": "markdown",
      "source": [
        "give output for this code"
      ],
      "metadata": {
        "id": "AWmGBlnSIHQL"
      }
    },
    {
      "cell_type": "code",
      "source": [
        "a={1,2,1}\n",
        "b=len(a)^2\n",
        "print(b)\n"
      ],
      "metadata": {
        "colab": {
          "base_uri": "https://localhost:8080/"
        },
        "id": "Uy1zH2E-IQnX",
        "outputId": "e1b13b75-b98a-424a-8b20-3de55d53f0d5"
      },
      "execution_count": null,
      "outputs": [
        {
          "output_type": "stream",
          "name": "stdout",
          "text": [
            "0\n"
          ]
        }
      ]
    },
    {
      "cell_type": "markdown",
      "source": [
        "Write a program that finds the longest word in a sentence using list comprehension."
      ],
      "metadata": {
        "id": "KHyIMvDTIV_p"
      }
    },
    {
      "cell_type": "code",
      "source": [
        "sentence = input(\"Enter a sentence: \")\n",
        "\n",
        "words = sentence.split()\n",
        "longest_word = max(words, key=len)\n",
        "\n",
        "print(\"The longest word in the sentence is:\", longest_word)"
      ],
      "metadata": {
        "colab": {
          "base_uri": "https://localhost:8080/"
        },
        "id": "oB-SGvT3Igfh",
        "outputId": "69f3a012-8cae-4351-bcc4-979dbe526f92"
      },
      "execution_count": null,
      "outputs": [
        {
          "output_type": "stream",
          "name": "stdout",
          "text": [
            "Enter a sentence: apple mango goa\n",
            "The longest word in the sentence is: apple\n"
          ]
        }
      ]
    },
    {
      "cell_type": "markdown",
      "source": [
        "Create a program that validates a password based on complexity rules (length, characters, special characters,numbers,uppers)\n"
      ],
      "metadata": {
        "id": "M0QhkcwGItW5"
      }
    },
    {
      "cell_type": "code",
      "source": [
        "def validate_password(password):\n",
        "    min_length = 8\n",
        "    has_uppercase = False\n",
        "    has_lowercase = False\n",
        "    has_digit = False\n",
        "    has_special_char = False\n",
        "    special_characters = \"!@#$%^&*()_+[]{}|;:,.<>?~\"\n",
        "\n",
        "    for char in password:\n",
        "        if char.isupper():\n",
        "            has_uppercase = True\n",
        "        elif char.islower():\n",
        "            has_lowercase = True\n",
        "        elif char.isdigit():\n",
        "            has_digit = True\n",
        "        elif char in special_characters:\n",
        "            has_special_char = True\n",
        "\n",
        "    if (\n",
        "        len(password) >= min_length\n",
        "        and has_uppercase\n",
        "        and has_lowercase\n",
        "        and has_digit\n",
        "        and has_special_char\n",
        "    ):\n",
        "        return True\n",
        "    else:\n",
        "        return False\n",
        "\n",
        "password = input(\"Enter your password: \")\n",
        "if validate_password(password):\n",
        "    print(\"Valid password.\")\n",
        "else:\n",
        "    print(\"Invalid password. Please make sure your password meets the criteria.\")"
      ],
      "metadata": {
        "colab": {
          "base_uri": "https://localhost:8080/"
        },
        "id": "OEF_dideIxT0",
        "outputId": "18a26042-bc3f-4126-8a9e-acccc585b968"
      },
      "execution_count": null,
      "outputs": [
        {
          "output_type": "stream",
          "name": "stdout",
          "text": [
            "Enter your password: Pradeep@92\n",
            "Valid password.\n"
          ]
        }
      ]
    },
    {
      "cell_type": "markdown",
      "source": [
        "print the pattern\n",
        "\n",
        "\n",
        "```\n",
        "* * * * *\n",
        "* * * *\n",
        "* * *\n",
        "* *\n",
        "*\n",
        "* *\n",
        "* * *\n",
        "* * * *\n",
        "* * * * *\n",
        "\n",
        "```\n",
        "\n"
      ],
      "metadata": {
        "id": "RsiL-Q7QJSB5"
      }
    },
    {
      "cell_type": "code",
      "source": [
        "for i in range(0,5):\n",
        "  for j in range(i,5):\n",
        "    print('*', end=\" \")\n",
        "  print()\n",
        "for i in range(0,5):\n",
        "  for j in range(0,i+1):\n",
        "    print('*',end=\" \")\n",
        "  print()"
      ],
      "metadata": {
        "colab": {
          "base_uri": "https://localhost:8080/"
        },
        "id": "w3Tp1cz2JbP6",
        "outputId": "059d1eda-456e-46eb-bb9b-c2c8e06395ff"
      },
      "execution_count": null,
      "outputs": [
        {
          "output_type": "stream",
          "name": "stdout",
          "text": [
            "* * * * * \n",
            "* * * * \n",
            "* * * \n",
            "* * \n",
            "* \n",
            "* \n",
            "* * \n",
            "* * * \n",
            "* * * * \n",
            "* * * * * \n"
          ]
        }
      ]
    },
    {
      "cell_type": "markdown",
      "source": [
        "print any Dictionary taking a user input.\n"
      ],
      "metadata": {
        "id": "41JeEs3uJrG1"
      }
    },
    {
      "cell_type": "code",
      "source": [
        "x = int(input(\"enter no.of key value pairs:\"))\n",
        "user_dict = {}\n",
        "\n",
        "for i in range(x):\n",
        "  key = input(\"enter key:\")\n",
        "  value = input(\"enter value:\")\n",
        "  user_dict[key]= value\n",
        "print(user_dict)"
      ],
      "metadata": {
        "id": "5hX2oWLnJtvr"
      },
      "execution_count": null,
      "outputs": []
    },
    {
      "cell_type": "markdown",
      "source": [
        "# Test-2\n",
        "\n",
        "---\n",
        "\n"
      ],
      "metadata": {
        "id": "CKITeLikLd1g"
      }
    },
    {
      "cell_type": "markdown",
      "source": [
        " write a Program to print the ASCII Value of a character.(character must be taken as user input)"
      ],
      "metadata": {
        "id": "UxlbvPD2LhaW"
      }
    },
    {
      "cell_type": "code",
      "source": [
        "x = input(\"enter a charcter:\")\n",
        "y = ord(x)\n",
        "print(f\"ascii value of {x} is {y}\")"
      ],
      "metadata": {
        "colab": {
          "base_uri": "https://localhost:8080/"
        },
        "id": "sasyP3OcLg2s",
        "outputId": "c970efc1-8f95-401e-c5ba-7b3c57307327"
      },
      "execution_count": null,
      "outputs": [
        {
          "output_type": "stream",
          "name": "stdout",
          "text": [
            "enter a charcter:p\n",
            "ascii value of p is 112\n"
          ]
        }
      ]
    },
    {
      "cell_type": "markdown",
      "source": [
        "Python Program to Add Two Matrices.(just Initialize the variables)\n"
      ],
      "metadata": {
        "id": "hT17fMzuMdYY"
      }
    },
    {
      "cell_type": "code",
      "source": [
        "import numpy as np\n",
        "\n",
        "a = np.array([[22,33,44],[33,44,55]])\n",
        "b = np.array([[33,44,55],[11,22,33]])\n",
        "\n",
        "z = a*b\n",
        "\n",
        "print(z)"
      ],
      "metadata": {
        "colab": {
          "base_uri": "https://localhost:8080/"
        },
        "id": "y8NeNJbbMgMX",
        "outputId": "8d623a8e-53f1-41ba-c78f-80d3c25a7add"
      },
      "execution_count": null,
      "outputs": [
        {
          "output_type": "stream",
          "name": "stdout",
          "text": [
            "[[ 726 1452 2420]\n",
            " [ 363  968 1815]]\n"
          ]
        }
      ]
    },
    {
      "cell_type": "markdown",
      "source": [
        "write a Python Program for cube sum of first n natural numbers(Take user input.)"
      ],
      "metadata": {
        "id": "-EubFxH-Td1l"
      }
    },
    {
      "cell_type": "code",
      "source": [
        "sum = 0\n",
        "n = 8\n",
        "for i in range(n+1):\n",
        "  sum = sum+i**3\n",
        "print(sum)\n"
      ],
      "metadata": {
        "colab": {
          "base_uri": "https://localhost:8080/"
        },
        "id": "61ChKpjGUKQ5",
        "outputId": "2d372970-b0aa-4e78-8c18-9b5d4ea967ea"
      },
      "execution_count": null,
      "outputs": [
        {
          "output_type": "stream",
          "name": "stdout",
          "text": [
            "1296\n"
          ]
        }
      ]
    },
    {
      "cell_type": "markdown",
      "source": [
        "write a python program to merge two lists of numbers and print the ascending order of the list at the end."
      ],
      "metadata": {
        "id": "TAtE6hOfVuou"
      }
    },
    {
      "cell_type": "code",
      "source": [
        "x = [11,22,33,44,55]\n",
        "y = [23,66,77,88,99]\n",
        "z = x+y\n",
        "p  = sorted(z)\n",
        "print(p)"
      ],
      "metadata": {
        "colab": {
          "base_uri": "https://localhost:8080/"
        },
        "id": "q5YVZim_VyPF",
        "outputId": "8de454f8-e8b9-41a4-dc67-0b4c7606b550"
      },
      "execution_count": null,
      "outputs": [
        {
          "output_type": "stream",
          "name": "stdout",
          "text": [
            "[11, 22, 23, 33, 44, 55, 66, 77, 88, 99]\n"
          ]
        }
      ]
    },
    {
      "cell_type": "markdown",
      "source": [
        "   Give me the output of the following code."
      ],
      "metadata": {
        "id": "5ZMLZz62XQra"
      }
    },
    {
      "cell_type": "code",
      "source": [
        "a,b,*c,d=[1,2,3,4,5,6,7,8]\n",
        "print(a)\n",
        "print(b)\n",
        "print(*c)\n",
        "print(d)\n"
      ],
      "metadata": {
        "colab": {
          "base_uri": "https://localhost:8080/"
        },
        "id": "BfL-wzj4XTmn",
        "outputId": "52324a44-b6c8-43a2-faa4-f8a9497562c7"
      },
      "execution_count": null,
      "outputs": [
        {
          "output_type": "stream",
          "name": "stdout",
          "text": [
            "1\n",
            "2\n",
            "3 4 5 6 7\n",
            "8\n"
          ]
        }
      ]
    },
    {
      "cell_type": "markdown",
      "source": [
        "write a program for Counting Consonants in a Given sentence(take the sentence as the user input)."
      ],
      "metadata": {
        "id": "VFdVpLayXkun"
      }
    },
    {
      "cell_type": "code",
      "source": [
        "sentence = input(\"Enter a sentence: \")\n",
        "consonants = \"bcdfghjklmnpqrstvwxyzBCDFGHJKLMNPQRSTVWXYZ\"\n",
        "consonant_count = 0\n",
        "\n",
        "for char in sentence:\n",
        "    if char in consonants:\n",
        "        consonant_count += 1\n",
        "print(\"Number of consonants:\", consonant_count)"
      ],
      "metadata": {
        "colab": {
          "base_uri": "https://localhost:8080/"
        },
        "id": "F1gbHUYpX3if",
        "outputId": "eaa5c651-7bcc-4bd6-a27e-9bf9e33975b8"
      },
      "execution_count": null,
      "outputs": [
        {
          "output_type": "stream",
          "name": "stdout",
          "text": [
            "Enter a sentence: balu manchi baludu\n",
            "Number of consonants: 9\n"
          ]
        }
      ]
    },
    {
      "cell_type": "markdown",
      "source": [
        "print the given pattern and take the row count as user input.\n",
        "\n",
        "```\n",
        "\n",
        "    0\n",
        "    0 1   \n",
        "    0 2 4  \n",
        "    0 3 6 9  \n",
        "    0 4 8 12 16\n",
        "\n",
        "```\n",
        "\n"
      ],
      "metadata": {
        "id": "lSJ98EYBYGWf"
      }
    },
    {
      "cell_type": "code",
      "source": [
        "for i in range(0,5):\n",
        "  for j in range(0,i+1):\n",
        "    print(i*j, end=\" \")\n",
        "  print()"
      ],
      "metadata": {
        "colab": {
          "base_uri": "https://localhost:8080/"
        },
        "id": "_BIjl1oAYKKc",
        "outputId": "c3d8004b-e72d-4af8-e336-7fa0a97a553f"
      },
      "execution_count": null,
      "outputs": [
        {
          "output_type": "stream",
          "name": "stdout",
          "text": [
            "0 \n",
            "0 1 \n",
            "0 2 4 \n",
            "0 3 6 9 \n",
            "0 4 8 12 16 \n"
          ]
        }
      ]
    },
    {
      "cell_type": "markdown",
      "source": [
        "Give me the output of the following code."
      ],
      "metadata": {
        "id": "JdwGqMAmco0w"
      }
    },
    {
      "cell_type": "code",
      "source": [
        "# a = '5' print(int(a))"
      ],
      "metadata": {
        "id": "5WkF-kfScpsi"
      },
      "execution_count": null,
      "outputs": []
    },
    {
      "cell_type": "markdown",
      "source": [
        "\n",
        "**What is a lambda function?**\n",
        "\n",
        "A lambda function in Python is a small anonymous function defined using the lambda keyword. It can have any number of arguments, but can only have one expression. Lambda functions are useful when you need a short function for a short period of time, particularly when you want to pass a function as an argument to another function"
      ],
      "metadata": {
        "id": "LZpptW81c1Zx"
      }
    },
    {
      "cell_type": "markdown",
      "source": [
        "# SORTING METHODS\n",
        "\n",
        "\n",
        "---\n",
        "\n",
        "\n",
        "\n",
        "1.   BUBBLE SORT\n",
        "2.   SELECTION SORT\n",
        "3.   INSERTION SORT\n",
        "\n",
        "\n",
        "---\n",
        "\n",
        "\n",
        "\n"
      ],
      "metadata": {
        "id": "FPaYEdxKVd7H"
      }
    },
    {
      "cell_type": "code",
      "source": [
        "#BUBBLE SORT\n"
      ],
      "metadata": {
        "id": "nKCewGoiVw7E"
      },
      "execution_count": null,
      "outputs": []
    },
    {
      "cell_type": "markdown",
      "source": [
        "# SEARCHING METHODS\n",
        "\n",
        "\n",
        "\n",
        "\n",
        "---\n",
        "\n",
        "\n",
        "1.   LINEAR SEARCH\n",
        "2.   BINARY SEARCH\n",
        "\n",
        "\n",
        "---\n",
        "\n",
        "\n"
      ],
      "metadata": {
        "id": "mOim4NFthSYF"
      }
    },
    {
      "cell_type": "code",
      "source": [
        "#LINEAR SEARCH\n"
      ],
      "metadata": {
        "id": "f6IJWDxFhjAn"
      },
      "execution_count": null,
      "outputs": []
    },
    {
      "cell_type": "markdown",
      "source": [
        "# 28/05/24"
      ],
      "metadata": {
        "id": "IQkhn1KLfi8c"
      }
    },
    {
      "cell_type": "markdown",
      "source": [
        "python code to send the repated numbers into one list and unique numbers in another list"
      ],
      "metadata": {
        "id": "sb-WAieDdnbi"
      }
    },
    {
      "cell_type": "code",
      "source": [
        "numbers = [1, 2, 3, 4, 2, 3, 5, 6, 7, 8, 9, 1, 4]\n",
        "\n",
        "x = []\n",
        "y = []\n",
        "\n",
        "for num in numbers:\n",
        "    if numbers.count(num) > 1 and num not in x:\n",
        "        x.append(num)\n",
        "    elif numbers.count(num) == 1:\n",
        "        y.append(num)\n",
        "\n",
        "print(\"Repeated Numbers:\", x)\n",
        "print(\"Unique Numbers:\", y)\n"
      ],
      "metadata": {
        "colab": {
          "base_uri": "https://localhost:8080/"
        },
        "id": "sjFefla-dr1i",
        "outputId": "aff3c935-3c6e-495d-8179-4fa0c1bcd7ac"
      },
      "execution_count": null,
      "outputs": [
        {
          "output_type": "stream",
          "name": "stdout",
          "text": [
            "Repeated Numbers: [1, 2, 3, 4]\n",
            "Unique Numbers: [5, 6, 7, 8, 9]\n"
          ]
        }
      ]
    },
    {
      "cell_type": "markdown",
      "source": [
        "python code to remove repated words in a string which is in a array"
      ],
      "metadata": {
        "id": "7mtxkqHzeRCe"
      }
    },
    {
      "cell_type": "code",
      "source": [
        "string_array = [\"hello\", \"world\", \"hello\", \"python\", \"is\", \"world\", \"hello\"]\n",
        "\n",
        "unique_words = []\n",
        "\n",
        "for word in string_array:\n",
        "    unique_word = []\n",
        "    for char in word:\n",
        "        if char not in unique_word:\n",
        "            unique_word.append(char)\n",
        "    unique_words.append(\"\".join(unique_word))\n",
        "\n",
        "print(\"Unique Words:\", unique_words)\n"
      ],
      "metadata": {
        "colab": {
          "base_uri": "https://localhost:8080/"
        },
        "id": "5rsVBYP6ewX0",
        "outputId": "05999529-028b-4fc3-eb27-276c2bdff29f"
      },
      "execution_count": null,
      "outputs": [
        {
          "output_type": "stream",
          "name": "stdout",
          "text": [
            "Unique Words: ['helo', 'world', 'helo', 'python', 'is', 'world', 'helo']\n"
          ]
        }
      ]
    }
  ],
  "metadata": {
    "colab": {
      "provenance": [],
      "include_colab_link": true
    },
    "kernelspec": {
      "display_name": "Python 3",
      "name": "python3"
    },
    "language_info": {
      "name": "python"
    }
  },
  "nbformat": 4,
  "nbformat_minor": 0
}